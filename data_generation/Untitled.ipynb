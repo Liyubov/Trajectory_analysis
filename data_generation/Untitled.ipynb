{
 "cells": [
  {
   "cell_type": "code",
   "execution_count": 1,
   "metadata": {},
   "outputs": [
    {
     "data": {
      "text/plain": [
       "['attm', 'ctrw', 'fbm', 'lw', 'sbm']"
      ]
     },
     "execution_count": 1,
     "metadata": {},
     "output_type": "execute_result"
    }
   ],
   "source": [
    "import matplotlib.pyplot as plt\n",
    "import numpy as np\n",
    "import os\n",
    "import csv\n",
    "import pandas as pd\n",
    "import random as rand\n",
    "import sys\n",
    "sys.path.append('../')\n",
    "from src.andi_tools import Andi_to_xy_testdata\n",
    "import andi \n",
    "AD = andi.andi_datasets()\n",
    "AD.avail_models_name"
   ]
  },
  {
   "cell_type": "code",
   "execution_count": 2,
   "metadata": {},
   "outputs": [],
   "source": [
    "traj_list = []\n",
    "label = []\n",
    "alphas = []\n",
    "\n",
    "N_tot = 500  # total number of trajectories sampled\n",
    "min_len = 50 # minimal length of the trajectory \n",
    "max_len = 120 # maximal length of the trajectory \n",
    "\n",
    "for i in np.arange(0,N_tot):\n",
    "    num = rand.randrange(1,3) # generate just: 'ctrw', 'fbm', \n",
    "    #rand.randrange(0,4)\n",
    "    if  num != 3:\n",
    "        a = 0.6*rand.random()+0.2\n",
    "        alphas.append(a)\n",
    "        traj_list.append(AD.create_dataset(T = np.int(rand.randrange(min_len,max_len)), N =1, exponents = a , models = num, dimension = 2))\n",
    "    else:\n",
    "        a = rand.random()+ 1\n",
    "        alphas.append(a)\n",
    "        traj_list.append(AD.create_dataset(T = np.int(rand.randrange(min_len,max_len)), N =1, exponents = rand.random()+ 1, models = num, dimension = 2))\n",
    "    label.append(num)"
   ]
  },
  {
   "cell_type": "code",
   "execution_count": 3,
   "metadata": {},
   "outputs": [],
   "source": [
    "x_data, y_data = Andi_to_xy_testdata(traj_list)\n",
    "traj = [np.concatenate((i,j)).T for i,j in zip(x_data,y_data)]"
   ]
  },
  {
   "cell_type": "code",
   "execution_count": 4,
   "metadata": {},
   "outputs": [],
   "source": [
    "df = pd.DataFrame([i.reshape(-1) for i in traj_list]) \n",
    "df.to_csv('test_2d_l.csv')\n",
    "df_lab = pd.DataFrame(label) \n",
    "df_lab.to_csv('label_2d_l.csv')\n",
    "df_alpha = pd.DataFrame(alphas) \n",
    "df_alpha.to_csv('alpha_2d_l.csv')"
   ]
  },
  {
   "cell_type": "code",
   "execution_count": null,
   "metadata": {},
   "outputs": [],
   "source": []
  }
 ],
 "metadata": {
  "kernelspec": {
   "display_name": "Python 3",
   "language": "python",
   "name": "python3"
  },
  "language_info": {
   "codemirror_mode": {
    "name": "ipython",
    "version": 3
   },
   "file_extension": ".py",
   "mimetype": "text/x-python",
   "name": "python",
   "nbconvert_exporter": "python",
   "pygments_lexer": "ipython3",
   "version": "3.7.6"
  }
 },
 "nbformat": 4,
 "nbformat_minor": 4
}
