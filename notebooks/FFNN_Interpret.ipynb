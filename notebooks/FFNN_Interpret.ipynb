{
 "cells": [
  {
   "cell_type": "code",
   "execution_count": 1,
   "metadata": {},
   "outputs": [],
   "source": [
    "# Initial imports\n",
    "import numpy as np\n",
    "import matplotlib.pyplot as plt\n",
    "import pandas as pd\n",
    "import os\n",
    "import sys\n",
    "sys.path.append('../')\n",
    "import torch\n",
    "import torch.nn as nn\n",
    "\n",
    "from captum.attr import IntegratedGradients\n",
    "from captum.attr import LayerConductance\n",
    "from captum.attr import NeuronConductance\n",
    "\n",
    "from src.features import Q_measure, dist_distribution, convex_hull, norm_traj\n",
    "from src.andi_tools import Andi_to_xy, Data_to_xy\n",
    "from src.training import linnetwork\n"
   ]
  },
  {
   "cell_type": "code",
   "execution_count": 2,
   "metadata": {},
   "outputs": [],
   "source": [
    "trajectories, labels = Data_to_xy(\"../data_generation/test_2d_l.csv\",\"../data_generation/label_2d_l.csv\")\n",
    "labels = torch.FloatTensor(labels)\n",
    "labels = torch.max(labels, 1)[1]"
   ]
  },
  {
   "cell_type": "code",
   "execution_count": 23,
   "metadata": {},
   "outputs": [],
   "source": [
    "# Here we create a tuple of features that we want to study \n",
    "\n",
    "features = (Q_measure(trajectories, 5),\n",
    "            convex_hull(trajectories, 5),\n",
    "            dist_distribution(trajectories),\n",
    "            just_traj(trajectories)[0],\n",
    "            just_traj(trajectories)[1]\n",
    "           )\n",
    "input_tensor = torch.from_numpy(np.concatenate(features,axis=1)).type(torch.FloatTensor)"
   ]
  },
  {
   "cell_type": "code",
   "execution_count": 24,
   "metadata": {},
   "outputs": [],
   "source": [
    "model = linnetwork(input_size=input_tensor.shape[1])\n",
    "criterion = torch.nn.CrossEntropyLoss()\n",
    "optimizer = torch.optim.Adam(model.parameters(), lr = 0.01)"
   ]
  },
  {
   "cell_type": "code",
   "execution_count": 25,
   "metadata": {},
   "outputs": [],
   "source": [
    "# Set random seed for reproducibility.\n",
    "\n",
    "np.random.seed(10)\n",
    "split = np.int(0.8*input_tensor.shape[0])\n",
    "\n",
    "train_input, train_labels = input_tensor[:split,:], labels[:split]\n",
    "test_input, test_labels = input_tensor[split:,:], labels[split:]\n"
   ]
  },
  {
   "cell_type": "code",
   "execution_count": 26,
   "metadata": {},
   "outputs": [
    {
     "name": "stdout",
     "output_type": "stream",
     "text": [
      "Epoch 0: train loss: 1.6402573585510254\n",
      "Epoch 1000: train loss: 0.9074543118476868\n",
      "Epoch 2000: train loss: 0.9049854278564453\n",
      "Epoch 3000: train loss: 0.9048867225646973\n",
      "Epoch 4000: train loss: 0.9048603177070618\n",
      "Epoch 5000: train loss: 0.9048489332199097\n",
      "Epoch 6000: train loss: 0.9048439860343933\n",
      "Epoch 7000: train loss: 0.904839277267456\n",
      "Epoch 8000: train loss: 0.904837965965271\n",
      "Epoch 9000: train loss: 0.9048366546630859\n"
     ]
    }
   ],
   "source": [
    "model.train()\n",
    "epoch = 10000\n",
    "for epoch in range(epoch):    \n",
    "    optimizer.zero_grad()    # Forward pass\n",
    "    y_pred = model(train_input)    # Compute Loss\n",
    "    loss = criterion(y_pred.squeeze(), train_labels)\n",
    "    if epoch % 1000 == 0 :\n",
    "        print('Epoch {}: train loss: {}'.format(epoch, loss.item()))    # Backward pass\n",
    "    loss.backward()\n",
    "    optimizer.step()"
   ]
  },
  {
   "cell_type": "code",
   "execution_count": 27,
   "metadata": {},
   "outputs": [],
   "source": [
    "solution =  model(test_input)\n",
    "after_train = criterion(solution,test_labels)\n"
   ]
  },
  {
   "cell_type": "code",
   "execution_count": 28,
   "metadata": {},
   "outputs": [],
   "source": [
    "prediction = torch.max(solution, 1)[1]"
   ]
  },
  {
   "cell_type": "code",
   "execution_count": 29,
   "metadata": {},
   "outputs": [],
   "source": [
    "nonzero = np.count_nonzero(np.argmax(solution.detach().numpy(),axis=1)-test_labels.detach().numpy())\n",
    "tot = len(np.argmax(solution.detach().numpy(),axis=1)-test_labels.detach().numpy())"
   ]
  },
  {
   "cell_type": "code",
   "execution_count": 30,
   "metadata": {},
   "outputs": [
    {
     "data": {
      "text/plain": [
       "0.91"
      ]
     },
     "execution_count": 30,
     "metadata": {},
     "output_type": "execute_result"
    }
   ],
   "source": [
    "(tot-nonzero)/tot"
   ]
  },
  {
   "cell_type": "markdown",
   "metadata": {},
   "source": [
    "# Using Captum to find model interpretability"
   ]
  },
  {
   "cell_type": "markdown",
   "metadata": {},
   "source": [
    "To compute the integrated gradients, we use the attribute method of the IntegratedGradients object. The method takes tensor(s) of input examples (matching the forward function of the model), and returns the input attributions for the given examples. We also have to provide the target label. \n",
    "\n",
    "The input tensor provided should require grad, so we call requires\\_grad\\_ on the tensor. The attribute method also takes a baseline, which is the starting point from which gradients are integrated. The default value is just the 0 tensor, which is a reasonable baseline / default for this task. \n",
    "\n",
    "The returned values of the attribute method are the attributions, which match the size of the given inputs, and delta, which approximates the error between the approximated integral and true integral."
   ]
  },
  {
   "cell_type": "code",
   "execution_count": 31,
   "metadata": {},
   "outputs": [],
   "source": [
    "ig = IntegratedGradients(model)"
   ]
  },
  {
   "cell_type": "markdown",
   "metadata": {},
   "source": [
    "considering we have four classification categories we have to calculate the attribute for all these different output categories. We average this score over all the samples (axis=0). "
   ]
  },
  {
   "cell_type": "code",
   "execution_count": 32,
   "metadata": {},
   "outputs": [],
   "source": [
    "attr_list = [np.mean(ig.attribute(input_tensor,target=i, return_convergence_delta=True)[0].detach().numpy(), axis=0) for i in [0,1,2,3,4]]"
   ]
  },
  {
   "cell_type": "markdown",
   "metadata": {},
   "source": [
    "We calculate the position along the input vector corresponing to the different feature to distinguish between the different categories. In this example we have three different features. Finally we average the score "
   ]
  },
  {
   "cell_type": "code",
   "execution_count": 33,
   "metadata": {},
   "outputs": [],
   "source": [
    "f_sizes = np.cumsum([0]+[np.shape(i)[1] for i in features])\n",
    "attr_new = [np.array([np.mean(np.abs(k[f_sizes[i]:f_sizes[i+1]])) for i in np.arange(0,len(f_sizes)-1)]) for k in attr_list]\n",
    "attr_new = [i/np.sum(i)for i in attr_new]"
   ]
  },
  {
   "cell_type": "code",
   "execution_count": 34,
   "metadata": {},
   "outputs": [],
   "source": [
    "feature_names = ('Q-measure','Convex Hull','Distance travelled','x_traj','y_traj')\n",
    "x_pos = (np.arange(len(feature_names)))"
   ]
  },
  {
   "cell_type": "markdown",
   "metadata": {},
   "source": [
    "This is the relative importance of the three different features in identifying "
   ]
  },
  {
   "cell_type": "code",
   "execution_count": 35,
   "metadata": {},
   "outputs": [
    {
     "data": {
      "image/png": "[encoded data removed]",
      "text/plain": [
       "<Figure size 1008x720 with 6 Axes>"
      ]
     },
     "metadata": {
      "needs_background": "light"
     },
     "output_type": "display_data"
    }
   ],
   "source": [
    "fig, axs = plt.subplots(nrows=2, ncols=3, constrained_layout=True, figsize=(14,10))\n",
    "\n",
    "axs[0,0].set_title('attm')\n",
    "axs[0,0].set_ylabel('Feature importance')\n",
    "axs[0,0].bar(x_pos, attr_new[0], align='center')\n",
    "\n",
    "axs[1,0].bar(x_pos, attr_new[1], align='center')\n",
    "axs[1,0].set_ylabel('Feature importance')\n",
    "axs[1,0].set_title('ctrw')\n",
    "\n",
    "\n",
    "axs[0,1].bar(x_pos, attr_new[2], align='center')\n",
    "axs[0,1].set_ylabel('Feature importance')\n",
    "axs[0,1].set_title('fbm')\n",
    "\n",
    "axs[1,1].bar(x_pos, attr_new[3], align='center')\n",
    "axs[1,1].set_ylabel('Feature importance')\n",
    "axs[1,1].set_title('lw')\n",
    "\n",
    "axs[0,2].bar(x_pos, attr_new[4], align='center')\n",
    "axs[0,2].set_ylabel('Feature importance')\n",
    "axs[0,2].set_title('sbm')\n",
    "\n",
    "plt.setp(axs, xticks=x_pos, xticklabels=feature_names)\n",
    "plt.show()"
   ]
  },
  {
   "cell_type": "code",
   "execution_count": null,
   "metadata": {},
   "outputs": [],
   "source": []
  }
 ],
 "metadata": {
  "kernelspec": {
   "display_name": "Python 3",
   "language": "python",
   "name": "python3"
  },
  "language_info": {
   "codemirror_mode": {
    "name": "ipython",
    "version": 3
   },
   "file_extension": ".py",
   "mimetype": "text/x-python",
   "name": "python",
   "nbconvert_exporter": "python",
   "pygments_lexer": "ipython3",
   "version": "3.7.6"
  }
 },
 "nbformat": 4,
 "nbformat_minor": 4
}
