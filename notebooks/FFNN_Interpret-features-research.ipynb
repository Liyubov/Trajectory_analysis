{
 "cells": [
  {
   "cell_type": "markdown",
   "metadata": {},
   "source": [
    "# Attention scores interpretation \n",
    "\n",
    "Here we will use Captum module https://github.com/pytorch/captum\n",
    "\n",
    "Captum is a model interpretability and understanding library for PyTorch. Captum means comprehension in latin and contains general purpose implementations of integrated gradients, saliency maps, smoothgrad, vargrad and others for PyTorch models. It has quick integration for models built with domain-specific libraries such as torchvision, torchtext, and others."
   ]
  },
  {
   "cell_type": "code",
   "execution_count": 2,
   "metadata": {},
   "outputs": [
    {
     "name": "stdout",
     "output_type": "stream",
     "text": [
      "Collecting captum\n",
      "  Downloading captum-0.2.0-py3-none-any.whl (1.4 MB)\n",
      "Requirement already satisfied: matplotlib in c:\\users\\lyubo\\anaconda3\\envs\\default\\lib\\site-packages (from captum) (3.1.2)\n",
      "Requirement already satisfied: numpy in c:\\users\\lyubo\\anaconda3\\envs\\default\\lib\\site-packages (from captum) (1.17.4)\n",
      "Requirement already satisfied: torch>=1.2 in c:\\users\\lyubo\\anaconda3\\envs\\default\\lib\\site-packages (from captum) (1.3.1)\n",
      "Requirement already satisfied: pyparsing!=2.0.4,!=2.1.2,!=2.1.6,>=2.0.1 in c:\\users\\lyubo\\anaconda3\\envs\\default\\lib\\site-packages (from matplotlib->captum) (2.4.6)\n",
      "Requirement already satisfied: kiwisolver>=1.0.1 in c:\\users\\lyubo\\anaconda3\\envs\\default\\lib\\site-packages (from matplotlib->captum) (1.1.0)\n",
      "Requirement already satisfied: cycler>=0.10 in c:\\users\\lyubo\\anaconda3\\envs\\default\\lib\\site-packages (from matplotlib->captum) (0.10.0)\n",
      "Requirement already satisfied: python-dateutil>=2.1 in c:\\users\\lyubo\\anaconda3\\envs\\default\\lib\\site-packages (from matplotlib->captum) (2.8.1)\n",
      "Requirement already satisfied: setuptools in c:\\users\\lyubo\\anaconda3\\envs\\default\\lib\\site-packages (from kiwisolver>=1.0.1->matplotlib->captum) (44.0.0.post20200102)\n",
      "Requirement already satisfied: six in c:\\users\\lyubo\\anaconda3\\envs\\default\\lib\\site-packages (from cycler>=0.10->matplotlib->captum) (1.13.0)\n",
      "Installing collected packages: captum\n",
      "Successfully installed captum-0.2.0\n"
     ]
    },
    {
     "name": "stderr",
     "output_type": "stream",
     "text": [
      "WARNING: You are using pip version 20.0.2; however, version 20.2.4 is available.\n",
      "You should consider upgrading via the 'c:\\users\\lyubo\\anaconda3\\envs\\default\\python.exe -m pip install --upgrade pip' command.\n"
     ]
    }
   ],
   "source": [
    "# For those who did not install captum module\n",
    "\n",
    "!pip install captum"
   ]
  },
  {
   "cell_type": "code",
   "execution_count": 1,
   "metadata": {},
   "outputs": [],
   "source": [
    "# Initial imports\n",
    "import numpy as np\n",
    "import matplotlib.pyplot as plt\n",
    "import pandas as pd \n",
    "import os\n",
    "import sys\n",
    "sys.path.append('../')\n",
    "import torch\n",
    "import torch.nn as nn\n",
    "\n",
    "from captum.attr import IntegratedGradients\n",
    "from captum.attr import LayerConductance\n",
    "from captum.attr import NeuronConductance\n",
    "\n",
    "from src.features import Q_measure, dist_distribution, convex_hull\n",
    "from src.andi_tools import Andi_to_xy, Data_to_xy\n",
    "from src.training import linnetwork\n"
   ]
  },
  {
   "cell_type": "markdown",
   "metadata": {},
   "source": [
    "# Load data"
   ]
  },
  {
   "cell_type": "code",
   "execution_count": 3,
   "metadata": {},
   "outputs": [],
   "source": [
    "# load given data with given labels \n",
    "\n",
    "trajectories, labels = Data_to_xy(\"../data_generation/test_2d.csv\",\"../data_generation/label_2d.csv\")\n",
    "labels = torch.FloatTensor(labels)\n",
    "labels = torch.max(labels, 1)[1]"
   ]
  },
  {
   "cell_type": "markdown",
   "metadata": {},
   "source": [
    "# Estimate trajectories features"
   ]
  },
  {
   "cell_type": "code",
   "execution_count": 7,
   "metadata": {},
   "outputs": [],
   "source": [
    "# Here we create a tuple of features that we want to study \n",
    "\n",
    "features = (Q_measure(trajectories, 5),\n",
    "            convex_hull(trajectories, 5),\n",
    "            dist_distribution(trajectories))\n",
    "input_tensor = torch.from_numpy(np.concatenate(features,axis=1)).type(torch.FloatTensor)"
   ]
  },
  {
   "cell_type": "code",
   "execution_count": 8,
   "metadata": {},
   "outputs": [],
   "source": [
    "model = linnetwork(input_size=input_tensor.shape[1])\n",
    "criterion = torch.nn.CrossEntropyLoss()\n",
    "optimizer = torch.optim.Adam(model.parameters(), lr = 0.01)"
   ]
  },
  {
   "cell_type": "code",
   "execution_count": 9,
   "metadata": {},
   "outputs": [],
   "source": [
    "# Set random seed for reproducibility.\n",
    "\n",
    "np.random.seed(10)\n",
    "split = np.int(0.8*input_tensor.shape[0])\n",
    "\n",
    "train_input, train_labels = input_tensor[:split,:], labels[:split]\n",
    "test_input, test_labels = input_tensor[split:,:], labels[split:]\n"
   ]
  },
  {
   "cell_type": "code",
   "execution_count": 10,
   "metadata": {},
   "outputs": [
    {
     "name": "stdout",
     "output_type": "stream",
     "text": [
      "Epoch 0: train loss: 1.6052473783493042\n",
      "Epoch 500: train loss: 0.9376593828201294\n",
      "Epoch 1000: train loss: 0.9107992053031921\n",
      "Epoch 1500: train loss: 0.9076417684555054\n",
      "Epoch 2000: train loss: 0.9053320288658142\n",
      "Epoch 2500: train loss: 0.9050197005271912\n",
      "Epoch 3000: train loss: 0.9049543142318726\n",
      "Epoch 3500: train loss: 0.9049172401428223\n",
      "Epoch 4000: train loss: 0.9048941135406494\n",
      "Epoch 4500: train loss: 0.9048781394958496\n"
     ]
    }
   ],
   "source": [
    "model.train()\n",
    "epoch = 5000\n",
    "for epoch in range(epoch):    \n",
    "    optimizer.zero_grad()    # Forward pass\n",
    "    y_pred = model(train_input)    # Compute Loss\n",
    "    loss = criterion(y_pred.squeeze(), train_labels)\n",
    "    if epoch % 500 == 0 :\n",
    "        print('Epoch {}: train loss: {}'.format(epoch, loss.item()))    # Backward pass\n",
    "    loss.backward()\n",
    "    optimizer.step()"
   ]
  },
  {
   "cell_type": "code",
   "execution_count": 11,
   "metadata": {},
   "outputs": [],
   "source": [
    "solution =  model(test_input)\n",
    "after_train = criterion(solution,test_labels)"
   ]
  },
  {
   "cell_type": "code",
   "execution_count": 12,
   "metadata": {},
   "outputs": [],
   "source": [
    "prediction = torch.max(solution, 1)[1]"
   ]
  },
  {
   "cell_type": "code",
   "execution_count": 13,
   "metadata": {},
   "outputs": [],
   "source": [
    "nonzero = np.count_nonzero(np.argmax(solution.detach().numpy(),axis=1)-test_labels.detach().numpy())\n",
    "tot = len(np.argmax(solution.detach().numpy(),axis=1)-test_labels.detach().numpy())"
   ]
  },
  {
   "cell_type": "code",
   "execution_count": 14,
   "metadata": {},
   "outputs": [
    {
     "data": {
      "text/plain": [
       "0.65"
      ]
     },
     "execution_count": 14,
     "metadata": {},
     "output_type": "execute_result"
    }
   ],
   "source": [
    "(tot-nonzero)/tot\n",
    "\n",
    "# usually around 0.76 for lr = 0.01"
   ]
  },
  {
   "cell_type": "markdown",
   "metadata": {},
   "source": [
    "# Using Captum to find model interpretability"
   ]
  },
  {
   "cell_type": "markdown",
   "metadata": {},
   "source": [
    "To compute the integrated gradients, we use the attribute method of the IntegratedGradients object. The method takes tensor(s) of input examples (matching the forward function of the model), and returns the input attributions for the given examples. We also have to provide the target label. \n",
    "\n",
    "The input tensor provided should require grad, so we call requires\\_grad\\_ on the tensor. The attribute method also takes a baseline, which is the starting point from which gradients are integrated. The default value is just the 0 tensor, which is a reasonable baseline / default for this task. \n",
    "\n",
    "The returned values of the attribute method are the attributions, which match the size of the given inputs, and delta, which approximates the error between the approximated integral and true integral."
   ]
  },
  {
   "cell_type": "code",
   "execution_count": 15,
   "metadata": {},
   "outputs": [],
   "source": [
    "ig = IntegratedGradients(model)"
   ]
  },
  {
   "cell_type": "markdown",
   "metadata": {},
   "source": [
    "considering we have four classification categories (e.g. ATTM, BM etc.) we have to calculate the attribute for all these different output categories. We average this score over all the samples (axis=0). "
   ]
  },
  {
   "cell_type": "code",
   "execution_count": 16,
   "metadata": {},
   "outputs": [],
   "source": [
    "attr_list = [np.mean(ig.attribute(input_tensor,target=i, return_convergence_delta=True)[0].detach().numpy(), axis=0) for i in [0,1,2,3,4]]"
   ]
  },
  {
   "cell_type": "markdown",
   "metadata": {},
   "source": [
    "We calculate the position along the input vector corresponing to the different feature to distinguish between the different categories. In this example we have three different features  (calculated for each trajectory). Finally we average the score "
   ]
  },
  {
   "cell_type": "code",
   "execution_count": 18,
   "metadata": {},
   "outputs": [],
   "source": [
    "f_sizes = np.cumsum([0]+[np.shape(i)[1] for i in features])\n",
    "attr_new = [np.array([np.mean(np.abs(k[f_sizes[i]:f_sizes[i+1]])) for i in np.arange(0,len(f_sizes)-1)]) for k in attr_list]\n",
    "attr_new = [i/np.sum(i)for i in attr_new]"
   ]
  },
  {
   "cell_type": "code",
   "execution_count": 19,
   "metadata": {},
   "outputs": [],
   "source": [
    "feature_names = ('Q-measure','Convex Hull','Distance distribution')\n",
    "x_pos = (np.arange(len(feature_names)))"
   ]
  },
  {
   "cell_type": "markdown",
   "metadata": {},
   "source": [
    "This is the relative importance of the three different features in identifying "
   ]
  },
  {
   "cell_type": "code",
   "execution_count": 20,
   "metadata": {},
   "outputs": [
    {
     "data": {
      "image/png": "[encoded data removed]",
      "text/plain": [
       "<Figure size 1008x720 with 6 Axes>"
      ]
     },
     "metadata": {
      "needs_background": "light"
     },
     "output_type": "display_data"
    }
   ],
   "source": [
    "fig, axs = plt.subplots(nrows=2, ncols=3, constrained_layout=True, figsize=(14,10))\n",
    "\n",
    "axs[0,0].set_title('attm')\n",
    "axs[0,0].set_ylabel('Feature importance')\n",
    "axs[0,0].bar(x_pos, attr_new[0], align='center')\n",
    "\n",
    "axs[1,0].bar(x_pos, attr_new[1], align='center')\n",
    "axs[1,0].set_ylabel('Feature importance')\n",
    "axs[1,0].set_title('ctrw')\n",
    "\n",
    "\n",
    "axs[0,1].bar(x_pos, attr_new[2], align='center')\n",
    "axs[0,1].set_ylabel('Feature importance')\n",
    "axs[0,1].set_title('fbm')\n",
    "\n",
    "axs[1,1].bar(x_pos, attr_new[3], align='center')\n",
    "axs[1,1].set_ylabel('Feature importance')\n",
    "axs[1,1].set_title('lw')\n",
    "\n",
    "axs[0,2].bar(x_pos, attr_new[4], align='center')\n",
    "axs[0,2].set_ylabel('Feature importance')\n",
    "axs[0,2].set_title('sbm')\n",
    "\n",
    "plt.setp(axs, xticks=x_pos, xticklabels=feature_names)\n",
    "plt.show()"
   ]
  },
  {
   "cell_type": "markdown",
   "metadata": {},
   "source": [
    "\n",
    "## Test for different number of features\n",
    "\n",
    "We now use different feature combination. "
   ]
  },
  {
   "cell_type": "code",
   "execution_count": 3,
   "metadata": {},
   "outputs": [],
   "source": [
    "# Here we create a tuple of features that we want to study \n",
    "\n",
    "features_new = (Q_measure(trajectories, 5),\n",
    "            Q_measure(trajectories, 10),\n",
    "            convex_hull(trajectories, 5),\n",
    "            dist_distribution(trajectories))\n",
    "input_tensor = torch.from_numpy(np.concatenate(features_new,axis=1)).type(torch.FloatTensor)"
   ]
  },
  {
   "cell_type": "code",
   "execution_count": 27,
   "metadata": {},
   "outputs": [
    {
     "name": "stdout",
     "output_type": "stream",
     "text": [
      "Epoch 0: train loss: 1.6126211881637573\n",
      "Epoch 500: train loss: 0.9420599937438965\n",
      "Epoch 1000: train loss: 0.9278583526611328\n",
      "Epoch 1500: train loss: 0.9261949062347412\n",
      "Epoch 2000: train loss: 0.9174988269805908\n",
      "Epoch 2500: train loss: 0.9173119068145752\n",
      "Epoch 3000: train loss: 0.9172505736351013\n",
      "Epoch 3500: train loss: 0.9172194600105286\n",
      "Epoch 4000: train loss: 0.9172050952911377\n",
      "Epoch 4500: train loss: 0.9171966314315796\n"
     ]
    },
    {
     "data": {
      "text/plain": [
       "0.59"
      ]
     },
     "execution_count": 27,
     "metadata": {},
     "output_type": "execute_result"
    },
    {
     "data": {
      "image/png": "[encoded data removed]",
      "text/plain": [
       "<Figure size 432x288 with 1 Axes>"
      ]
     },
     "metadata": {
      "needs_background": "light"
     },
     "output_type": "display_data"
    }
   ],
   "source": [
    "model = linnetwork(input_size=input_tensor.shape[1])\n",
    "criterion = torch.nn.CrossEntropyLoss()\n",
    "optimizer = torch.optim.Adam(model.parameters(), lr = 0.01)\n",
    "\n",
    "# Set random seed for reproducibility.\n",
    "\n",
    "np.random.seed(10)\n",
    "split = np.int(0.8*input_tensor.shape[0])\n",
    "\n",
    "train_input, train_labels = input_tensor[:split,:], labels[:split]\n",
    "test_input, test_labels = input_tensor[split:,:], labels[split:]\n",
    "\n",
    "\n",
    "model.train()\n",
    "epoch = 5000\n",
    "loss_array = np.zeros(epoch)\n",
    "for epoch in range(epoch):    \n",
    "    optimizer.zero_grad()    # Forward pass\n",
    "    y_pred = model(train_input)    # Compute Loss\n",
    "    loss = criterion(y_pred.squeeze(), train_labels)\n",
    "    if epoch % 500 == 0 :\n",
    "        loss_array[epoch] =  loss.item()\n",
    "        print('Epoch {}: train loss: {}'.format(epoch, loss.item()))    # Backward pass\n",
    "    loss.backward()\n",
    "    optimizer.step()\n",
    "plt.plot(loss_array, '-')\n",
    "    \n",
    "solution =  model(test_input)\n",
    "after_train = criterion(solution,test_labels)\n",
    "\n",
    "prediction = torch.max(solution, 1)[1]\n",
    "\n",
    "\n",
    "nonzero = np.count_nonzero(np.argmax(solution.detach().numpy(),axis=1)-test_labels.detach().numpy())\n",
    "tot = len(np.argmax(solution.detach().numpy(),axis=1)-test_labels.detach().numpy())\n",
    "\n",
    "(tot-nonzero)/tot\n",
    "\n",
    "# usually around 0.76 for lr = 0.01\n",
    "\n"
   ]
  },
  {
   "cell_type": "code",
   "execution_count": 28,
   "metadata": {},
   "outputs": [],
   "source": [
    "# test for captum feature importance \n",
    "\n",
    "ig = IntegratedGradients(model)\n",
    "\n",
    "attr_list = [np.mean(ig.attribute(input_tensor,target=i, return_convergence_delta=True)[0].detach().numpy(), axis=0) for i in [0,1,2,3,4]]\n",
    "\n",
    "f_sizes = np.cumsum([0]+[np.shape(i)[1] for i in features_new])\n",
    "attr_new = [np.array([np.mean(np.abs(k[f_sizes[i]:f_sizes[i+1]])) for i in np.arange(0,len(f_sizes)-1)]) for k in attr_list]\n",
    "attr_new = [i/np.sum(i)for i in attr_new]\n",
    "\n",
    "feature_names = ('Q-measure 1','Q-measure 2','Convex Hull','Distance distribution')\n",
    "x_pos = (np.arange(len(feature_names)))\n"
   ]
  },
  {
   "cell_type": "code",
   "execution_count": 29,
   "metadata": {},
   "outputs": [
    {
     "data": {
      "image/png": "[encoded data removed]",
      "text/plain": [
       "<Figure size 1008x720 with 6 Axes>"
      ]
     },
     "metadata": {
      "needs_background": "light"
     },
     "output_type": "display_data"
    }
   ],
   "source": [
    "# we plot features importance as before but for new features added \n",
    "\n",
    "fig, axs = plt.subplots(nrows=2, ncols=3, constrained_layout=True, figsize=(14,10))\n",
    "\n",
    "axs[0,0].set_title('attm')\n",
    "axs[0,0].set_ylabel('Feature importance')\n",
    "axs[0,0].bar(x_pos, attr_new[0], align='center')\n",
    "\n",
    "axs[1,0].bar(x_pos, attr_new[1], align='center')\n",
    "axs[1,0].set_ylabel('Feature importance')\n",
    "axs[1,0].set_title('ctrw')\n",
    "\n",
    "\n",
    "axs[0,1].bar(x_pos, attr_new[2], align='center')\n",
    "axs[0,1].set_ylabel('Feature importance')\n",
    "axs[0,1].set_title('fbm')\n",
    "\n",
    "axs[1,1].bar(x_pos, attr_new[3], align='center')\n",
    "axs[1,1].set_ylabel('Feature importance')\n",
    "axs[1,1].set_title('lw')\n",
    "\n",
    "axs[0,2].bar(x_pos, attr_new[4], align='center')\n",
    "axs[0,2].set_ylabel('Feature importance')\n",
    "axs[0,2].set_title('sbm')\n",
    "\n",
    "plt.setp(axs, xticks=x_pos, xticklabels=feature_names)\n",
    "plt.show()\n"
   ]
  },
  {
   "cell_type": "markdown",
   "metadata": {},
   "source": [
    "# Interpretation of feature importance\n",
    "\n",
    "Observations: \n",
    "1. for all trajectories types distance distribution plays the main role for feature learning. One still need to find agreement with previously found results in \"Classification of diffusion modes in single-particle tracking data: Feature-based versus deep-learning approach\" by  Patrycja Kowalek et al. \n",
    "\n",
    "2. when adding additional feature, which is not so different from existing ones, e.g. Q-measure for different window sizes we expect total feature importance (on average) to be the same for these features (or even to dicrease in total). This is teste below. \n",
    "\n",
    "3. feature for Q measure at least for 2 window sizes seems to be cumulative, while for 3 is not (?)\n",
    "\n",
    "Issues: \n",
    "1. every simulation gives different feature importance (depedning on lr, other parameters).\n",
    "2. need of analytical results for features importance given network configuration, e.g. lr, #epoches. \n",
    "3. previously in other studies only scalars values were tested for feature importance, e.g. MSD or diffusion coefficient \n"
   ]
  },
  {
   "cell_type": "code",
   "execution_count": 4,
   "metadata": {},
   "outputs": [
    {
     "name": "stdout",
     "output_type": "stream",
     "text": [
      "Epoch 0: train loss: 1.6123303174972534\n",
      "Epoch 500: train loss: 0.9342556595802307\n",
      "Epoch 1000: train loss: 0.9177581071853638\n",
      "Epoch 1500: train loss: 0.917397141456604\n",
      "Epoch 2000: train loss: 0.9172759056091309\n",
      "Epoch 2500: train loss: 0.9172150492668152\n",
      "Epoch 3000: train loss: 0.9171777367591858\n",
      "Epoch 3500: train loss: 0.9171534180641174\n",
      "Epoch 4000: train loss: 0.9171398878097534\n",
      "Epoch 4500: train loss: 0.917131245136261\n"
     ]
    },
    {
     "data": {
      "text/plain": [
       "0.63"
      ]
     },
     "execution_count": 4,
     "metadata": {},
     "output_type": "execute_result"
    },
    {
     "data": {
      "image/png": "[encoded data removed]",
      "text/plain": [
       "<Figure size 432x288 with 1 Axes>"
      ]
     },
     "metadata": {
      "needs_background": "light"
     },
     "output_type": "display_data"
    }
   ],
   "source": [
    "\n",
    "\n",
    "# Here we create a tuple of features that we want to study \n",
    "\n",
    "features_new = (Q_measure(trajectories, 5),\n",
    "            Q_measure(trajectories, 10),\n",
    "                Q_measure(trajectories, 20),\n",
    "            convex_hull(trajectories, 5),\n",
    "            dist_distribution(trajectories))\n",
    "input_tensor = torch.from_numpy(np.concatenate(features_new,axis=1)).type(torch.FloatTensor)\n",
    "\n",
    "\n",
    "model = linnetwork(input_size=input_tensor.shape[1])\n",
    "criterion = torch.nn.CrossEntropyLoss()\n",
    "optimizer = torch.optim.Adam(model.parameters(), lr = 0.01)\n",
    "\n",
    "# Set random seed for reproducibility.\n",
    "\n",
    "np.random.seed(10)\n",
    "split = np.int(0.8*input_tensor.shape[0])\n",
    "\n",
    "train_input, train_labels = input_tensor[:split,:], labels[:split]\n",
    "test_input, test_labels = input_tensor[split:,:], labels[split:]\n",
    "\n",
    "\n",
    "model.train()\n",
    "epoch = 5000\n",
    "loss_array = np.zeros(epoch)\n",
    "for epoch in range(epoch):    \n",
    "    optimizer.zero_grad()    # Forward pass\n",
    "    y_pred = model(train_input)    # Compute Loss\n",
    "    loss = criterion(y_pred.squeeze(), train_labels)\n",
    "    if epoch % 500 == 0 :\n",
    "        loss_array[epoch] =  loss.item()\n",
    "        print('Epoch {}: train loss: {}'.format(epoch, loss.item()))    # Backward pass\n",
    "    loss.backward()\n",
    "    optimizer.step()\n",
    "plt.plot(loss_array, '-')\n",
    "    \n",
    "solution =  model(test_input)\n",
    "after_train = criterion(solution,test_labels)\n",
    "\n",
    "prediction = torch.max(solution, 1)[1]\n",
    "\n",
    "\n",
    "nonzero = np.count_nonzero(np.argmax(solution.detach().numpy(),axis=1)-test_labels.detach().numpy())\n",
    "tot = len(np.argmax(solution.detach().numpy(),axis=1)-test_labels.detach().numpy())\n",
    "\n",
    "(tot-nonzero)/tot\n",
    "\n",
    "# usually around 0.76 for lr = 0.01\n",
    "\n"
   ]
  },
  {
   "cell_type": "markdown",
   "metadata": {},
   "source": [
    "Plot captum feature importance "
   ]
  },
  {
   "cell_type": "code",
   "execution_count": 6,
   "metadata": {},
   "outputs": [
    {
     "data": {
      "image/png": "[encoded data removed]",
      "text/plain": [
       "<Figure size 1008x720 with 6 Axes>"
      ]
     },
     "metadata": {
      "needs_background": "light"
     },
     "output_type": "display_data"
    }
   ],
   "source": [
    "# test for captum feature importance \n",
    "\n",
    "ig = IntegratedGradients(model)\n",
    "\n",
    "attr_list = [np.mean(ig.attribute(input_tensor,target=i, return_convergence_delta=True)[0].detach().numpy(), axis=0) for i in [0,1,2,3,4]]\n",
    "\n",
    "f_sizes = np.cumsum([0]+[np.shape(i)[1] for i in features_new])\n",
    "attr_new = [np.array([np.mean(np.abs(k[f_sizes[i]:f_sizes[i+1]])) for i in np.arange(0,len(f_sizes)-1)]) for k in attr_list]\n",
    "attr_new = [i/np.sum(i)for i in attr_new]\n",
    "\n",
    "feature_names = ('Q-m 1','Q-m 2', 'Q-m 3' , 'Conv.hull','Dist.dist.')\n",
    "x_pos = (np.arange(len(feature_names)))\n",
    "\n",
    "# we plot features importance as before but for new features added \n",
    "\n",
    "fig, axs = plt.subplots(nrows=2, ncols=3, constrained_layout=True, figsize=(14,10))\n",
    "\n",
    "axs[0,0].set_title('attm')\n",
    "axs[0,0].set_ylabel('Feature importance')\n",
    "axs[0,0].bar(x_pos, attr_new[0], align='center')\n",
    "\n",
    "axs[1,0].bar(x_pos, attr_new[1], align='center')\n",
    "axs[1,0].set_ylabel('Feature importance')\n",
    "axs[1,0].set_title('ctrw')\n",
    "\n",
    "\n",
    "axs[0,1].bar(x_pos, attr_new[2], align='center')\n",
    "axs[0,1].set_ylabel('Feature importance')\n",
    "axs[0,1].set_title('fbm')\n",
    "\n",
    "axs[1,1].bar(x_pos, attr_new[3], align='center')\n",
    "axs[1,1].set_ylabel('Feature importance')\n",
    "axs[1,1].set_title('lw')\n",
    "\n",
    "axs[0,2].bar(x_pos, attr_new[4], align='center')\n",
    "axs[0,2].set_ylabel('Feature importance')\n",
    "axs[0,2].set_title('sbm')\n",
    "\n",
    "plt.setp(axs, xticks=x_pos, xticklabels=feature_names)\n",
    "plt.show()\n",
    "\n"
   ]
  },
  {
   "cell_type": "markdown",
   "metadata": {},
   "source": [
    "We see that there is one feature (Q-measure for window size w=20), which may look more important than other window size Q-measures. We check it, if we get the same result for just two Q-measures with w=20 or without w=20. "
   ]
  },
  {
   "cell_type": "code",
   "execution_count": 7,
   "metadata": {},
   "outputs": [
    {
     "name": "stdout",
     "output_type": "stream",
     "text": [
      "Epoch 0: train loss: 1.6230888366699219\n",
      "Epoch 500: train loss: 0.9392871856689453\n",
      "Epoch 1000: train loss: 0.925029456615448\n",
      "Epoch 1500: train loss: 0.9246482849121094\n",
      "Epoch 2000: train loss: 0.9244141578674316\n",
      "Epoch 2500: train loss: 0.9243297576904297\n",
      "Epoch 3000: train loss: 0.9243018627166748\n",
      "Epoch 3500: train loss: 0.9242822527885437\n",
      "Epoch 4000: train loss: 0.9242689609527588\n",
      "Epoch 4500: train loss: 0.924103319644928\n"
     ]
    },
    {
     "data": {
      "text/plain": [
       "0.6"
      ]
     },
     "execution_count": 7,
     "metadata": {},
     "output_type": "execute_result"
    },
    {
     "data": {
      "image/png": "[encoded data removed]",
      "text/plain": [
       "<Figure size 432x288 with 1 Axes>"
      ]
     },
     "metadata": {
      "needs_background": "light"
     },
     "output_type": "display_data"
    }
   ],
   "source": [
    "\n",
    "\n",
    "# Here we create a tuple of features that we want to study \n",
    "\n",
    "features_new = (Q_measure(trajectories, 5),\n",
    "                Q_measure(trajectories, 20),\n",
    "            convex_hull(trajectories, 5),\n",
    "            dist_distribution(trajectories))\n",
    "input_tensor = torch.from_numpy(np.concatenate(features_new,axis=1)).type(torch.FloatTensor)\n",
    "\n",
    "\n",
    "model = linnetwork(input_size=input_tensor.shape[1])\n",
    "criterion = torch.nn.CrossEntropyLoss()\n",
    "optimizer = torch.optim.Adam(model.parameters(), lr = 0.01)\n",
    "\n",
    "# Set random seed for reproducibility.\n",
    "\n",
    "np.random.seed(10)\n",
    "split = np.int(0.8*input_tensor.shape[0])\n",
    "\n",
    "train_input, train_labels = input_tensor[:split,:], labels[:split]\n",
    "test_input, test_labels = input_tensor[split:,:], labels[split:]\n",
    "\n",
    "\n",
    "model.train()\n",
    "epoch = 5000\n",
    "loss_array = np.zeros(epoch)\n",
    "for epoch in range(epoch):    \n",
    "    optimizer.zero_grad()    # Forward pass\n",
    "    y_pred = model(train_input)    # Compute Loss\n",
    "    loss = criterion(y_pred.squeeze(), train_labels)\n",
    "    if epoch % 500 == 0 :\n",
    "        loss_array[epoch] =  loss.item()\n",
    "        print('Epoch {}: train loss: {}'.format(epoch, loss.item()))    # Backward pass\n",
    "    loss.backward()\n",
    "    optimizer.step()\n",
    "plt.plot(loss_array, '-')\n",
    "    \n",
    "solution =  model(test_input)\n",
    "after_train = criterion(solution,test_labels)\n",
    "\n",
    "prediction = torch.max(solution, 1)[1]\n",
    "\n",
    "\n",
    "nonzero = np.count_nonzero(np.argmax(solution.detach().numpy(),axis=1)-test_labels.detach().numpy())\n",
    "tot = len(np.argmax(solution.detach().numpy(),axis=1)-test_labels.detach().numpy())\n",
    "\n",
    "(tot-nonzero)/tot\n",
    "\n",
    "# usually around 0.76 for lr = 0.01\n",
    "\n"
   ]
  },
  {
   "cell_type": "code",
   "execution_count": 8,
   "metadata": {},
   "outputs": [
    {
     "data": {
      "image/png": "[encoded data removed]",
      "text/plain": [
       "<Figure size 1008x720 with 6 Axes>"
      ]
     },
     "metadata": {
      "needs_background": "light"
     },
     "output_type": "display_data"
    }
   ],
   "source": [
    "# test for captum feature importance \n",
    "\n",
    "ig = IntegratedGradients(model)\n",
    "\n",
    "attr_list = [np.mean(ig.attribute(input_tensor,target=i, return_convergence_delta=True)[0].detach().numpy(), axis=0) for i in [0,1,2,3,4]]\n",
    "\n",
    "f_sizes = np.cumsum([0]+[np.shape(i)[1] for i in features_new])\n",
    "attr_new = [np.array([np.mean(np.abs(k[f_sizes[i]:f_sizes[i+1]])) for i in np.arange(0,len(f_sizes)-1)]) for k in attr_list]\n",
    "attr_new = [i/np.sum(i)for i in attr_new]\n",
    "\n",
    "feature_names = ('Q-m 1', 'Q-m 3' , 'Conv.hull','Dist.dist.')\n",
    "x_pos = (np.arange(len(feature_names)))\n",
    "\n",
    "# we plot features importance as before but for new features added \n",
    "\n",
    "fig, axs = plt.subplots(nrows=2, ncols=3, constrained_layout=True, figsize=(14,10))\n",
    "\n",
    "axs[0,0].set_title('attm')\n",
    "axs[0,0].set_ylabel('Feature importance')\n",
    "axs[0,0].bar(x_pos, attr_new[0], align='center')\n",
    "\n",
    "axs[1,0].bar(x_pos, attr_new[1], align='center')\n",
    "axs[1,0].set_ylabel('Feature importance')\n",
    "axs[1,0].set_title('ctrw')\n",
    "\n",
    "\n",
    "axs[0,1].bar(x_pos, attr_new[2], align='center')\n",
    "axs[0,1].set_ylabel('Feature importance')\n",
    "axs[0,1].set_title('fbm')\n",
    "\n",
    "axs[1,1].bar(x_pos, attr_new[3], align='center')\n",
    "axs[1,1].set_ylabel('Feature importance')\n",
    "axs[1,1].set_title('lw')\n",
    "\n",
    "axs[0,2].bar(x_pos, attr_new[4], align='center')\n",
    "axs[0,2].set_ylabel('Feature importance')\n",
    "axs[0,2].set_title('sbm')\n",
    "\n",
    "plt.setp(axs, xticks=x_pos, xticklabels=feature_names)\n",
    "plt.show()\n",
    "\n"
   ]
  },
  {
   "cell_type": "markdown",
   "metadata": {},
   "source": [
    "## Observations \n",
    "\n",
    "It seems that window size $w=20$ at least numerically does not bring so much new information in comparison to $w=10$, but \n",
    "when adding more Q-measures in total it gives higher cumulative feature importance, which is interesting non-additive feature (to be tested more). "
   ]
  },
  {
   "cell_type": "markdown",
   "metadata": {},
   "source": [
    "# Input of trajectory itself as a feature\n",
    "Let us now input the trajectory itslef as a new feature. \n"
   ]
  },
  {
   "cell_type": "code",
   "execution_count": 4,
   "metadata": {},
   "outputs": [],
   "source": [
    "\n",
    "\n",
    "\n",
    "# Initial imports\n",
    "import numpy as np\n",
    "import matplotlib.pyplot as plt\n",
    "import pandas as pd \n",
    "import os\n",
    "import sys\n",
    "sys.path.append('../')\n",
    "import torch\n",
    "import torch.nn as nn\n",
    "\n",
    "from captum.attr import IntegratedGradients\n",
    "from captum.attr import LayerConductance\n",
    "from captum.attr import NeuronConductance\n",
    "\n",
    "#from src.features import Q_measure, dist_distribution, convex_hull\n",
    "from src.andi_tools import Andi_to_xy, Data_to_xy\n",
    "from src.training import linnetwork\n",
    "\n",
    "\n",
    "from src.features import Q_measure, dist_distribution, convex_hull, traject_itself\n",
    "from src.andi_tools import Andi_to_xy, Data_to_xy\n",
    "from src.training import linnetwork\n",
    "\n"
   ]
  },
  {
   "cell_type": "code",
   "execution_count": 3,
   "metadata": {},
   "outputs": [
    {
     "ename": "TypeError",
     "evalue": "concatenate() got multiple values for argument 'axis'",
     "output_type": "error",
     "traceback": [
      "\u001b[1;31m---------------------------------------------------------------------------\u001b[0m",
      "\u001b[1;31mTypeError\u001b[0m                                 Traceback (most recent call last)",
      "\u001b[1;32m<ipython-input-3-3617a2f04a61>\u001b[0m in \u001b[0;36m<module>\u001b[1;34m\u001b[0m\n\u001b[0;32m      4\u001b[0m             \u001b[0mconvex_hull\u001b[0m\u001b[1;33m(\u001b[0m\u001b[0mtrajectories\u001b[0m\u001b[1;33m,\u001b[0m \u001b[1;36m5\u001b[0m\u001b[1;33m)\u001b[0m\u001b[1;33m,\u001b[0m\u001b[1;33m\u001b[0m\u001b[1;33m\u001b[0m\u001b[0m\n\u001b[0;32m      5\u001b[0m             \u001b[0mdist_distribution\u001b[0m\u001b[1;33m(\u001b[0m\u001b[0mtrajectories\u001b[0m\u001b[1;33m)\u001b[0m\u001b[1;33m,\u001b[0m\u001b[1;33m\u001b[0m\u001b[1;33m\u001b[0m\u001b[0m\n\u001b[1;32m----> 6\u001b[1;33m            traject_itself(trajectories))\n\u001b[0m\u001b[0;32m      7\u001b[0m \u001b[0minput_tensor\u001b[0m \u001b[1;33m=\u001b[0m \u001b[0mtorch\u001b[0m\u001b[1;33m.\u001b[0m\u001b[0mfrom_numpy\u001b[0m\u001b[1;33m(\u001b[0m\u001b[0mnp\u001b[0m\u001b[1;33m.\u001b[0m\u001b[0mconcatenate\u001b[0m\u001b[1;33m(\u001b[0m\u001b[0mfeatures\u001b[0m\u001b[1;33m,\u001b[0m\u001b[0maxis\u001b[0m\u001b[1;33m=\u001b[0m\u001b[1;36m1\u001b[0m\u001b[1;33m)\u001b[0m\u001b[1;33m)\u001b[0m\u001b[1;33m.\u001b[0m\u001b[0mtype\u001b[0m\u001b[1;33m(\u001b[0m\u001b[0mtorch\u001b[0m\u001b[1;33m.\u001b[0m\u001b[0mFloatTensor\u001b[0m\u001b[1;33m)\u001b[0m\u001b[1;33m\u001b[0m\u001b[1;33m\u001b[0m\u001b[0m\n",
      "\u001b[1;32m~\\Documents\\Programming_languages\\jupyter_notebook\\random_walks_trajectories_analysis\\codalab_challenge\\Trajectory_analysis-main-github-Remy\\src\\features.py\u001b[0m in \u001b[0;36mtraject_itself\u001b[1;34m(trajectories)\u001b[0m\n\u001b[0;32m     49\u001b[0m \t'''\n\u001b[0;32m     50\u001b[0m         \u001b[1;31m#print(np.shape(trajectory))\u001b[0m\u001b[1;33m\u001b[0m\u001b[1;33m\u001b[0m\u001b[1;33m\u001b[0m\u001b[0m\n\u001b[1;32m---> 51\u001b[1;33m         \u001b[0mtrajectory_coordinates\u001b[0m \u001b[1;33m=\u001b[0m \u001b[1;33m[\u001b[0m\u001b[0mnp\u001b[0m\u001b[1;33m.\u001b[0m\u001b[0mconcatenate\u001b[0m\u001b[1;33m(\u001b[0m\u001b[0mtrajectory\u001b[0m\u001b[1;33m[\u001b[0m\u001b[1;36m0\u001b[0m\u001b[1;33m,\u001b[0m\u001b[1;33m:\u001b[0m\u001b[1;33m]\u001b[0m\u001b[1;33m,\u001b[0m \u001b[0mtrajectory\u001b[0m\u001b[1;33m[\u001b[0m\u001b[1;36m1\u001b[0m\u001b[1;33m,\u001b[0m\u001b[1;33m:\u001b[0m\u001b[1;33m]\u001b[0m\u001b[1;33m,\u001b[0m \u001b[0maxis\u001b[0m\u001b[1;33m=\u001b[0m\u001b[1;36m0\u001b[0m\u001b[1;33m)\u001b[0m \u001b[1;32mfor\u001b[0m \u001b[0mtrajectory\u001b[0m \u001b[1;32min\u001b[0m \u001b[0mtrajectories\u001b[0m\u001b[1;33m]\u001b[0m\u001b[1;33m\u001b[0m\u001b[1;33m\u001b[0m\u001b[0m\n\u001b[0m\u001b[0;32m     52\u001b[0m         \u001b[1;32mreturn\u001b[0m \u001b[0mtrajectory_coordinates\u001b[0m\u001b[1;33m\u001b[0m\u001b[1;33m\u001b[0m\u001b[0m\n\u001b[0;32m     53\u001b[0m \u001b[1;33m\u001b[0m\u001b[0m\n",
      "\u001b[1;32m~\\Documents\\Programming_languages\\jupyter_notebook\\random_walks_trajectories_analysis\\codalab_challenge\\Trajectory_analysis-main-github-Remy\\src\\features.py\u001b[0m in \u001b[0;36m<listcomp>\u001b[1;34m(.0)\u001b[0m\n\u001b[0;32m     49\u001b[0m \t'''\n\u001b[0;32m     50\u001b[0m         \u001b[1;31m#print(np.shape(trajectory))\u001b[0m\u001b[1;33m\u001b[0m\u001b[1;33m\u001b[0m\u001b[1;33m\u001b[0m\u001b[0m\n\u001b[1;32m---> 51\u001b[1;33m         \u001b[0mtrajectory_coordinates\u001b[0m \u001b[1;33m=\u001b[0m \u001b[1;33m[\u001b[0m\u001b[0mnp\u001b[0m\u001b[1;33m.\u001b[0m\u001b[0mconcatenate\u001b[0m\u001b[1;33m(\u001b[0m\u001b[0mtrajectory\u001b[0m\u001b[1;33m[\u001b[0m\u001b[1;36m0\u001b[0m\u001b[1;33m,\u001b[0m\u001b[1;33m:\u001b[0m\u001b[1;33m]\u001b[0m\u001b[1;33m,\u001b[0m \u001b[0mtrajectory\u001b[0m\u001b[1;33m[\u001b[0m\u001b[1;36m1\u001b[0m\u001b[1;33m,\u001b[0m\u001b[1;33m:\u001b[0m\u001b[1;33m]\u001b[0m\u001b[1;33m,\u001b[0m \u001b[0maxis\u001b[0m\u001b[1;33m=\u001b[0m\u001b[1;36m0\u001b[0m\u001b[1;33m)\u001b[0m \u001b[1;32mfor\u001b[0m \u001b[0mtrajectory\u001b[0m \u001b[1;32min\u001b[0m \u001b[0mtrajectories\u001b[0m\u001b[1;33m]\u001b[0m\u001b[1;33m\u001b[0m\u001b[1;33m\u001b[0m\u001b[0m\n\u001b[0m\u001b[0;32m     52\u001b[0m         \u001b[1;32mreturn\u001b[0m \u001b[0mtrajectory_coordinates\u001b[0m\u001b[1;33m\u001b[0m\u001b[1;33m\u001b[0m\u001b[0m\n\u001b[0;32m     53\u001b[0m \u001b[1;33m\u001b[0m\u001b[0m\n",
      "\u001b[1;32m<__array_function__ internals>\u001b[0m in \u001b[0;36mconcatenate\u001b[1;34m(*args, **kwargs)\u001b[0m\n",
      "\u001b[1;31mTypeError\u001b[0m: concatenate() got multiple values for argument 'axis'"
     ]
    }
   ],
   "source": [
    "# Here we create a tuple of features that we want to study \n",
    "\n",
    "features = (Q_measure(trajectories, 5),\n",
    "            convex_hull(trajectories, 5),\n",
    "            dist_distribution(trajectories),\n",
    "           traject_itself(trajectories))\n",
    "input_tensor = torch.from_numpy(np.concatenate(features,axis=1)).type(torch.FloatTensor)"
   ]
  },
  {
   "cell_type": "code",
   "execution_count": null,
   "metadata": {},
   "outputs": [],
   "source": []
  }
 ],
 "metadata": {
  "kernelspec": {
   "display_name": "Python 3",
   "language": "python",
   "name": "python3"
  },
  "language_info": {
   "codemirror_mode": {
    "name": "ipython",
    "version": 3
   },
   "file_extension": ".py",
   "mimetype": "text/x-python",
   "name": "python",
   "nbconvert_exporter": "python",
   "pygments_lexer": "ipython3",
   "version": "3.7.3"
  }
 },
 "nbformat": 4,
 "nbformat_minor": 4
}
