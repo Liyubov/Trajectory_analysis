{
 "cells": [
  {
   "cell_type": "code",
   "execution_count": 3,
   "metadata": {},
   "outputs": [
    {
     "ename": "ModuleNotFoundError",
     "evalue": "No module named 'src'",
     "output_type": "error",
     "traceback": [
      "\u001b[0;31m---------------------------------------------------------------------------\u001b[0m",
      "\u001b[0;31mModuleNotFoundError\u001b[0m                       Traceback (most recent call last)",
      "\u001b[0;32m<ipython-input-3-51354a6b244f>\u001b[0m in \u001b[0;36m<module>\u001b[0;34m\u001b[0m\n\u001b[1;32m      7\u001b[0m \u001b[0;32mimport\u001b[0m \u001b[0msys\u001b[0m\u001b[0;34m\u001b[0m\u001b[0;34m\u001b[0m\u001b[0m\n\u001b[1;32m      8\u001b[0m \u001b[0msys\u001b[0m\u001b[0;34m.\u001b[0m\u001b[0mpath\u001b[0m\u001b[0;34m.\u001b[0m\u001b[0mappend\u001b[0m\u001b[0;34m(\u001b[0m\u001b[0;34m'../'\u001b[0m\u001b[0;34m)\u001b[0m\u001b[0;34m\u001b[0m\u001b[0;34m\u001b[0m\u001b[0m\n\u001b[0;32m----> 9\u001b[0;31m \u001b[0;32mfrom\u001b[0m \u001b[0msrc\u001b[0m\u001b[0;34m.\u001b[0m\u001b[0mandi_tools\u001b[0m \u001b[0;32mimport\u001b[0m \u001b[0mAndi_to_xy_testdata\u001b[0m\u001b[0;34m\u001b[0m\u001b[0;34m\u001b[0m\u001b[0m\n\u001b[0m\u001b[1;32m     10\u001b[0m \u001b[0;32mimport\u001b[0m \u001b[0mandi\u001b[0m\u001b[0;34m\u001b[0m\u001b[0;34m\u001b[0m\u001b[0m\n\u001b[1;32m     11\u001b[0m \u001b[0mAD\u001b[0m \u001b[0;34m=\u001b[0m \u001b[0mandi\u001b[0m\u001b[0;34m.\u001b[0m\u001b[0mandi_datasets\u001b[0m\u001b[0;34m(\u001b[0m\u001b[0;34m)\u001b[0m\u001b[0;34m\u001b[0m\u001b[0;34m\u001b[0m\u001b[0m\n",
      "\u001b[0;31mModuleNotFoundError\u001b[0m: No module named 'src'"
     ]
    }
   ],
   "source": [
    "import matplotlib.pyplot as plt\n",
    "import numpy as np\n",
    "import os\n",
    "import csv\n",
    "import pandas as pd\n",
    "import random as rand\n",
    "import sys\n",
    "sys.path.append('../')\n",
    "from src.andi_tools import Andi_to_xy_testdata\n",
    "import andi \n",
    "AD = andi.andi_datasets()\n",
    "AD.avail_models_name"
   ]
  },
  {
   "cell_type": "code",
   "execution_count": 5,
   "metadata": {},
   "outputs": [],
   "source": [
    "traj_list = []\n",
    "label = []\n",
    "alphas = []\n",
    "\n",
    "N_tot = 500  # total number of trajectories sampled\n",
    "min_len = 50 # minimal length of the trajectory \n",
    "max_len = 120 # maximal length of the trajectory \n",
    "\n",
    "for i in np.arange(0,N_tot):\n",
    "    num = rand.randrange(0,4)\n",
    "    if  num != 3:\n",
    "        a = 0.6*rand.random()+0.2\n",
    "        alphas.append(a)\n",
    "        traj_list.append(AD.create_dataset(T = np.int(rand.randrange(min_len,max_len)), N =1, exponents = a , models = num, dimension = 2))\n",
    "    else:\n",
    "        a = rand.random()+ 1\n",
    "        alphas.append(a)\n",
    "        traj_list.append(AD.create_dataset(T = np.int(rand.randrange(min_len,max_len)), N =1, exponents = rand.random()+ 1, models = num, dimension = 2))\n",
    "    label.append(num)"
   ]
  },
  {
   "cell_type": "code",
   "execution_count": 6,
   "metadata": {},
   "outputs": [],
   "source": [
    "x_data, y_data = Andi_to_xy_testdata(traj_list)\n",
    "traj = [np.concatenate((i,j)).T for i,j in zip(x_data,y_data)]"
   ]
  },
  {
   "cell_type": "code",
   "execution_count": 7,
   "metadata": {},
   "outputs": [],
   "source": [
    "df = pd.DataFrame([i.reshape(-1) for i in traj_list]) \n",
    "df.to_csv('test_2d.csv')\n",
    "df_lab = pd.DataFrame(label) \n",
    "df_lab.to_csv('label_2d.csv')\n",
    "df_alpha = pd.DataFrame(alphas) \n",
    "df_alpha.to_csv('alpha_2d.csv')"
   ]
  },
  {
   "cell_type": "code",
   "execution_count": null,
   "metadata": {},
   "outputs": [],
   "source": []
  }
 ],
 "metadata": {
  "kernelspec": {
   "display_name": "Python 3",
   "language": "python",
   "name": "python3"
  },
  "language_info": {
   "codemirror_mode": {
    "name": "ipython",
    "version": 3
   },
   "file_extension": ".py",
   "mimetype": "text/x-python",
   "name": "python",
   "nbconvert_exporter": "python",
   "pygments_lexer": "ipython3",
   "version": "3.7.6"
  }
 },
 "nbformat": 4,
 "nbformat_minor": 4
}
