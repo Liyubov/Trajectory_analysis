{
 "cells": [
  {
   "cell_type": "code",
   "execution_count": 1,
   "metadata": {},
   "outputs": [],
   "source": [
    "import numpy as np\n",
    "import torch\n",
    "import os\n",
    "import sys\n",
    "import pandas as pd\n",
    "import matplotlib.pyplot as plt\n",
    "\n",
    "sys.path.append('../')\n",
    "\n",
    "from src.features import Q_measure, dist_distribution, convex_hull\n",
    "from src.andi_tools import Andi_to_xy, Data_to_xy\n",
    "from src.training import FeedForward\n",
    "\n",
    "%load_ext autoreload\n",
    "%autoreload 2"
   ]
  },
  {
   "cell_type": "code",
   "execution_count": 2,
   "metadata": {},
   "outputs": [],
   "source": [
    "trajectories, labels = Data_to_xy(\"../data_generation/test_2d.csv\",\"../data_generation/label_2d.csv\")\n",
    "labels = torch.FloatTensor(labels)\n",
    "labels = torch.max(labels, 1)[1]"
   ]
  },
  {
   "cell_type": "code",
   "execution_count": 3,
   "metadata": {},
   "outputs": [
    {
     "data": {
      "text/plain": [
       "500"
      ]
     },
     "execution_count": 3,
     "metadata": {},
     "output_type": "execute_result"
    }
   ],
   "source": [
    "len(labels)"
   ]
  },
  {
   "cell_type": "code",
   "execution_count": 4,
   "metadata": {},
   "outputs": [],
   "source": [
    "features =[Q_measure(trajectories, 2),\n",
    "            Q_measure(trajectories, 7),\n",
    "           convex_hull(trajectories,5),\n",
    "          dist_distribution(trajectories)]\n",
    "feature_sizes = [f.shape[1] for f in features]\n",
    "features = [torch.FloatTensor(f) for f in features]"
   ]
  },
  {
   "cell_type": "code",
   "execution_count": 6,
   "metadata": {},
   "outputs": [],
   "source": [
    "model = FeedForward(feature_sizes, hidden_size=32)\n",
    "criterion = torch.nn.CrossEntropyLoss()\n",
    "optimizer = torch.optim.Adam(model.parameters(), lr = 0.01)"
   ]
  },
  {
   "cell_type": "code",
   "execution_count": 13,
   "metadata": {},
   "outputs": [
    {
     "name": "stdout",
     "output_type": "stream",
     "text": [
      "Epoch 0: train loss: 1.6119673252105713\n",
      "Epoch 250: train loss: 1.2449041604995728\n",
      "Epoch 500: train loss: 1.2068288326263428\n",
      "Epoch 750: train loss: 1.1974139213562012\n",
      "Epoch 1000: train loss: 1.192539930343628\n",
      "Epoch 1250: train loss: 1.1894385814666748\n",
      "Epoch 1500: train loss: 1.1885353326797485\n",
      "Epoch 1750: train loss: 1.188015341758728\n",
      "Epoch 2000: train loss: 1.1876977682113647\n",
      "Epoch 2250: train loss: 1.1874922513961792\n",
      "Epoch 2500: train loss: 1.187349557876587\n",
      "Epoch 2750: train loss: 1.1872475147247314\n",
      "Epoch 3000: train loss: 1.1871713399887085\n",
      "Epoch 3250: train loss: 1.1871140003204346\n",
      "Epoch 3500: train loss: 1.1871294975280762\n",
      "Epoch 3750: train loss: 1.1871134042739868\n",
      "Epoch 4000: train loss: 1.1870918273925781\n",
      "Epoch 4250: train loss: 1.1870733499526978\n",
      "Epoch 4500: train loss: 1.187057614326477\n",
      "Epoch 4750: train loss: 1.1870439052581787\n"
     ]
    }
   ],
   "source": [
    "model.train()\n",
    "epoch = 5000\n",
    "for epoch in range(epoch):    \n",
    "    optimizer.zero_grad()    # Forward pass\n",
    "    y_pred = model(features)    # Compute Loss\n",
    "    loss = criterion(y_pred.squeeze(), labels)\n",
    "    if epoch % 500 == 0 :\n",
    "        print('Epoch {}: train loss: {}'.format(epoch, loss.item()))    # Backward pass\n",
    "    loss.backward()\n",
    "    optimizer.step()"
   ]
  },
  {
   "cell_type": "code",
   "execution_count": 14,
   "metadata": {},
   "outputs": [],
   "source": [
    "after_train = criterion(y_pred,labels)"
   ]
  },
  {
   "cell_type": "code",
   "execution_count": 15,
   "metadata": {},
   "outputs": [],
   "source": [
    "prediction = torch.max(y_pred, 1)[1]"
   ]
  },
  {
   "cell_type": "code",
   "execution_count": 16,
   "metadata": {},
   "outputs": [],
   "source": [
    "nonzero = np.count_nonzero(np.argmax(y_pred.detach().numpy(),axis=1)-labels.detach().numpy())\n",
    "tot = len(np.argmax(y_pred.detach().numpy(),axis=1)-labels.detach().numpy())"
   ]
  },
  {
   "cell_type": "code",
   "execution_count": 17,
   "metadata": {},
   "outputs": [
    {
     "data": {
      "text/plain": [
       "0.706"
      ]
     },
     "execution_count": 17,
     "metadata": {},
     "output_type": "execute_result"
    }
   ],
   "source": [
    "(tot-nonzero)/tot"
   ]
  },
  {
   "cell_type": "code",
   "execution_count": null,
   "metadata": {},
   "outputs": [],
   "source": []
  }
 ],
 "metadata": {
  "kernelspec": {
   "display_name": "Python 3",
   "language": "python",
   "name": "python3"
  },
  "language_info": {
   "codemirror_mode": {
    "name": "ipython",
    "version": 3
   },
   "file_extension": ".py",
   "mimetype": "text/x-python",
   "name": "python",
   "nbconvert_exporter": "python",
   "pygments_lexer": "ipython3",
   "version": "3.7.6"
  }
 },
 "nbformat": 4,
 "nbformat_minor": 4
}
