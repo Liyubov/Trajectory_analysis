{
 "cells": [
  {
   "cell_type": "markdown",
   "metadata": {},
   "source": [
    "# Comparison of Neural networks methods with other benchmark\n",
    "We compare NN method with benchmark for convex hull (LCH) method introduced in \"Unraveling intermittent features in single-particle trajectories by a local convex hull method\"\n",
    "https://www.researchgate.net/publication/319235599_Unraveling_intermittent_features_in_single-particle_trajectories_by_a_local_convex_hull_method\n",
    "\n",
    "Notes:\n",
    "1. In LCH method the recognition score is a function of τ (time window for convex hull) and it is not a monotonous function, since there is an optimal value of window size given T (total lengnth of trajectory). \n",
    "2. Recognition score R is calculated of the diameter-based discriminator Sd(n) and area based discriminator Sa(n)\n",
    "3. LCH method is quite sensitive to noise and for that one needs to use higher τ (time window for convex hull)\n",
    "4. The local convex hull captures changes in the mutual arrangment of points, in a somewhat similar way as our eyes do. The diameter and the volume are the basic geometric characteristics of the LCH that reflect, respectively, the overall size and anisotropy of points"
   ]
  },
  {
   "cell_type": "code",
   "execution_count": 1,
   "metadata": {},
   "outputs": [],
   "source": [
    "import numpy as np\n",
    "import torch\n",
    "import os\n",
    "import sys\n",
    "sys.path.append('../')\n",
    "\n",
    "from src.features import Q_measure, dist_distribution, convex_hull\n",
    "from src.andi_tools import Andi_to_xy\n",
    "from src.training import FeedForward\n",
    "\n",
    "%load_ext autoreload\n",
    "%autoreload 2"
   ]
  },
  {
   "cell_type": "markdown",
   "metadata": {},
   "source": [
    "# Generate data\n",
    "Idea is to generate and load data with different types for which results on Q measure and convex hull are known and studied:\n",
    "1. two planar Brownian motions with distinct diffusion coefficients D1 and D2 (change in diffusivity);\n",
    "2. two planar fractional Brownian motions with distinct Hurst exponents H1 and H2 (change in auto- correlations).\n",
    "\n",
    "Generation using andi tools ['attm', 'ctrw', 'fbm', 'lw', 'sbm']: \n",
    "1. For α = 1 the noise is uncorrelated, hence the FBM converges to usual Brownian motion. \n",
    "2. Fractional Brownian motion (FBM) arises from the Langevin equation dx(t)dt = ξfGn(t), where ξfGn is a fractional Gaussian noise. the Hurst exponent is used as a measure of the long-term memory of a time series\n",
    "\n",
    "### Problem\n",
    "With Andi I cannot really generate Brownian motion with different diffusion coefficients (see below), so I can use standard Euler Maryama scheme for generating them. "
   ]
  },
  {
   "cell_type": "code",
   "execution_count": 10,
   "metadata": {},
   "outputs": [],
   "source": [
    "import andi\n",
    "\n",
    "AD = andi.andi_datasets()\n",
    "AD.avail_models_name\n",
    "\n",
    "T_len = 500\n",
    "N_tot = 2000\n",
    "N_test = 200\n",
    "\n",
    "\n",
    "#dataset_bm = AD.create_dataset(T = T_len, N = N_tot, exponents = [1], models = [ 2])\n",
    "dataset_fbm1 = AD.create_dataset(T = T_len, N = N_test, exponents = [0.4], models = [ 2])\n",
    "dataset_fbm1 = AD.create_dataset(T = T_len, N = N_test, exponents = [0.9], models = [ 2])\n",
    "\n",
    "#input_data = dataset[:,2:]\n",
    "#input_data = torch.FloatTensor(input_data.reshape((3*N_tot,-1,1)))[:,None,:,:]\n",
    "#labels = torch.Tensor(dataset[:,0].astype(int))\n",
    "#labels = labels.type(torch.LongTensor)\n",
    "\n",
    "#idx = np.random.permutation(labels.shape[0])\n",
    "\n",
    "#input_data = input_data[idx,:,:,:]\n",
    "#labels = labels[idx]\n",
    "\n",
    "#input_data_test = dataset_test[:,2:]\n",
    "#labels_test = torch.Tensor(dataset_test[:,0].astype(int))\n",
    "#labels_test = labels_test.type(torch.LongTensor)\n",
    "#input_data_test = torch.FloatTensor(input_data_test.reshape((3*N_test,-1,1)))[:,None,:,:]"
   ]
  },
  {
   "cell_type": "markdown",
   "metadata": {},
   "source": [
    "# Generate Brownian motion\n",
    "We can use a numerical technique to approximate the solution. One of the most straightforward approximations is the Euler-Maruyama Method for SDE\n",
    "wi+1=wi−μwiΔti+σΔWi"
   ]
  },
  {
   "cell_type": "code",
   "execution_count": 8,
   "metadata": {},
   "outputs": [
    {
     "data": {
      "text/plain": [
       "Text(0.5, 1.0, 'Geometric Brownian Motion, Dif.coef.=2')"
      ]
     },
     "execution_count": 8,
     "metadata": {},
     "output_type": "execute_result"
    },
    {
     "data": {
      "image/png": "[encoded data removed]",
      "text/plain": [
       "<Figure size 432x288 with 1 Axes>"
      ]
     },
     "metadata": {
      "needs_background": "light"
     },
     "output_type": "display_data"
    }
   ],
   "source": [
    "import numpy as np\n",
    "import matplotlib.pyplot as plt\n",
    "\n",
    "seed = 5       \n",
    "N  = 2.**6     # increments\n",
    "\n",
    "def Brownian(seed, N):\n",
    "    \n",
    "    np.random.seed(seed)                         \n",
    "    dt = 1./N                                    # time step\n",
    "    b = np.random.normal(0., 1., int(N))*np.sqrt(dt)  # brownian increments\n",
    "    W = np.cumsum(b)                             # brownian path\n",
    "    return W, b\n",
    "\n",
    "\n",
    "# brownian increments\n",
    "b = Brownian(seed, N)[1]\n",
    "\n",
    "# brownian motion\n",
    "W = Brownian(seed, N)[0]\n",
    "W = np.insert(W, 0, 0.)   \n",
    "\n",
    "# GBM Exact Solution\n",
    "\n",
    "# Parameters\n",
    "#\n",
    "# So:     initial stock price\n",
    "# mu:     returns (drift coefficient)\n",
    "# sigma:  volatility (diffusion coefficient)\n",
    "# W:      brownian motion\n",
    "# T:      time period\n",
    "# N:      number of increments\n",
    "\n",
    "def GBM(So, mu, sigma, W, T, N):    \n",
    "    t = np.linspace(0.,1.,N+1)\n",
    "    S = []\n",
    "    S.append(So)\n",
    "    for i in range(1,int(N+1)):\n",
    "        drift = (mu - 0.5 * sigma**2) * t[i]\n",
    "        diffusion = sigma * W[i-1]\n",
    "        S_temp = So*np.exp(drift + diffusion)\n",
    "        S.append(S_temp)\n",
    "    return S, t\n",
    "\n",
    "So = 55.25\n",
    "mu = 0.15\n",
    "sigma = 0.4\n",
    "W = Brownian(seed, N)[0]\n",
    "T = 1.\n",
    "N = 2.**6\n",
    "\n",
    "soln = GBM(So, mu, sigma, W, T, N)[0]    # Exact solution\n",
    "t = GBM(So, mu, sigma, W, T, N)[1]       # time increments for  plotting\n",
    "\n",
    "plt.plot(t, soln)\n",
    "plt.ylabel('Random walk position') # could be also Stock Price, $\n",
    "plt.ylabel('time') # could be also Stock Price, $\n",
    "plt.title('Geometric Brownian Motion, Dif.coef.='+str(sigma))\n",
    "\n",
    "So = 55.25\n",
    "mu = 0.15\n",
    "sigma = 2\n",
    "W = Brownian(seed, N)[0]\n",
    "T = 1.\n",
    "N = 2.**6\n",
    "\n",
    "soln = GBM(So, mu, sigma, W, T, N)[0]    # Exact solution\n",
    "t = GBM(So, mu, sigma, W, T, N)[1]       # time increments for  plotting\n",
    "\n",
    "plt.plot(t, soln)\n",
    "plt.ylabel('Random walk position in 1D') # could be also in 2D\n",
    "plt.ylabel('time') # could be also Stock Price, $\n",
    "plt.title('Geometric Brownian Motion, Dif.coef.='+str(sigma))\n",
    "\n",
    "\n"
   ]
  },
  {
   "cell_type": "markdown",
   "metadata": {},
   "source": [
    "# Load data \n",
    "We load data, which we will be testing the method for. "
   ]
  },
  {
   "cell_type": "code",
   "execution_count": 2,
   "metadata": {},
   "outputs": [],
   "source": [
    "\n",
    "import pandas as pd\n",
    "import csv\n",
    "\n",
    "# load data on trajectories, it is very heavy \n",
    "trajectories_experiment = pd.read_csv('../data/data_sample_trajectory_2d.csv') #, labels = Andi_to_xy(\"data/test_2d.csv\",\"data/label_2d.csv\")\n"
   ]
  },
  {
   "cell_type": "markdown",
   "metadata": {},
   "source": [
    "# Training on labelled data\n",
    "We are using data from Andi challenge. \n"
   ]
  },
  {
   "cell_type": "code",
   "execution_count": 3,
   "metadata": {},
   "outputs": [
    {
     "ename": "ValueError",
     "evalue": "all the input array dimensions for the concatenation axis must match exactly, but along dimension 1, the array at index 0 has size 78 and the array at index 1 has size 79",
     "output_type": "error",
     "traceback": [
      "\u001b[1;31m---------------------------------------------------------------------------\u001b[0m",
      "\u001b[1;31mValueError\u001b[0m                                Traceback (most recent call last)",
      "\u001b[1;32m<ipython-input-3-2a0ad84e535c>\u001b[0m in \u001b[0;36m<module>\u001b[1;34m\u001b[0m\n\u001b[1;32m----> 1\u001b[1;33m \u001b[0mtrajectories\u001b[0m\u001b[1;33m,\u001b[0m \u001b[0mlabels\u001b[0m \u001b[1;33m=\u001b[0m \u001b[0mAndi_to_xy\u001b[0m\u001b[1;33m(\u001b[0m\u001b[1;34m\"data/test_2d.csv\"\u001b[0m\u001b[1;33m,\u001b[0m\u001b[1;34m\"data/label_2d.csv\"\u001b[0m\u001b[1;33m)\u001b[0m\u001b[1;31m# (\"data/test_2d_12.csv\",\"data/label_2d_12.csv\")\u001b[0m\u001b[1;33m\u001b[0m\u001b[1;33m\u001b[0m\u001b[0m\n\u001b[0m\u001b[0;32m      2\u001b[0m \u001b[0mlabels\u001b[0m \u001b[1;33m=\u001b[0m \u001b[0mtorch\u001b[0m\u001b[1;33m.\u001b[0m\u001b[0mFloatTensor\u001b[0m\u001b[1;33m(\u001b[0m\u001b[0mlabels\u001b[0m\u001b[1;33m)\u001b[0m\u001b[1;33m\u001b[0m\u001b[1;33m\u001b[0m\u001b[0m\n\u001b[0;32m      3\u001b[0m \u001b[0mlabels\u001b[0m \u001b[1;33m=\u001b[0m \u001b[0mtorch\u001b[0m\u001b[1;33m.\u001b[0m\u001b[0mmax\u001b[0m\u001b[1;33m(\u001b[0m\u001b[0mlabels\u001b[0m\u001b[1;33m,\u001b[0m \u001b[1;36m1\u001b[0m\u001b[1;33m)\u001b[0m\u001b[1;33m[\u001b[0m\u001b[1;36m1\u001b[0m\u001b[1;33m]\u001b[0m\u001b[1;33m\u001b[0m\u001b[1;33m\u001b[0m\u001b[0m\n",
      "\u001b[1;32m~\\Documents\\Programming_languages\\jupyter_notebook\\random_walks_trajectories_analysis\\codalab_challenge\\Trajectory_analysis-main-github-Remy\\src\\andi_tools.py\u001b[0m in \u001b[0;36mAndi_to_xy\u001b[1;34m(path_input, path_labels)\u001b[0m\n\u001b[0;32m     37\u001b[0m     \u001b[0mdata\u001b[0m \u001b[1;33m=\u001b[0m \u001b[1;33m[\u001b[0m\u001b[0mall_2D\u001b[0m\u001b[1;33m[\u001b[0m\u001b[0mi\u001b[0m\u001b[1;33m]\u001b[0m\u001b[1;33m[\u001b[0m\u001b[1;33m~\u001b[0m\u001b[0mnp\u001b[0m\u001b[1;33m.\u001b[0m\u001b[0misnan\u001b[0m\u001b[1;33m(\u001b[0m\u001b[0mall_2D\u001b[0m\u001b[1;33m[\u001b[0m\u001b[0mi\u001b[0m\u001b[1;33m]\u001b[0m\u001b[1;33m)\u001b[0m\u001b[1;33m]\u001b[0m\u001b[1;33m.\u001b[0m\u001b[0mreshape\u001b[0m\u001b[1;33m(\u001b[0m\u001b[1;36m1\u001b[0m\u001b[1;33m,\u001b[0m\u001b[1;33m-\u001b[0m\u001b[1;36m1\u001b[0m\u001b[1;33m)\u001b[0m \u001b[1;32mfor\u001b[0m \u001b[0mi\u001b[0m \u001b[1;32min\u001b[0m \u001b[0mnp\u001b[0m\u001b[1;33m.\u001b[0m\u001b[0marange\u001b[0m\u001b[1;33m(\u001b[0m\u001b[0mlen\u001b[0m\u001b[1;33m(\u001b[0m\u001b[0mall_2D\u001b[0m\u001b[1;33m)\u001b[0m\u001b[1;33m)\u001b[0m\u001b[1;33m]\u001b[0m\u001b[1;33m\u001b[0m\u001b[1;33m\u001b[0m\u001b[0m\n\u001b[0;32m     38\u001b[0m     \u001b[0mT_lens\u001b[0m \u001b[1;33m=\u001b[0m \u001b[1;33m[\u001b[0m\u001b[0mnp\u001b[0m\u001b[1;33m.\u001b[0m\u001b[0mint\u001b[0m\u001b[1;33m(\u001b[0m\u001b[1;33m(\u001b[0m\u001b[0mk\u001b[0m\u001b[1;33m.\u001b[0m\u001b[0mshape\u001b[0m\u001b[1;33m[\u001b[0m\u001b[1;36m1\u001b[0m\u001b[1;33m]\u001b[0m\u001b[1;33m-\u001b[0m\u001b[1;36m3\u001b[0m\u001b[1;33m)\u001b[0m\u001b[1;33m/\u001b[0m\u001b[1;36m2\u001b[0m\u001b[1;33m)\u001b[0m\u001b[1;32mfor\u001b[0m \u001b[0mk\u001b[0m \u001b[1;32min\u001b[0m \u001b[0mdata\u001b[0m\u001b[1;33m]\u001b[0m\u001b[1;33m\u001b[0m\u001b[1;33m\u001b[0m\u001b[0m\n\u001b[1;32m---> 39\u001b[1;33m     \u001b[0mxy_data\u001b[0m \u001b[1;33m=\u001b[0m \u001b[1;33m[\u001b[0m\u001b[0mnp\u001b[0m\u001b[1;33m.\u001b[0m\u001b[0mconcatenate\u001b[0m\u001b[1;33m(\u001b[0m\u001b[1;33m[\u001b[0m\u001b[0mk\u001b[0m\u001b[1;33m[\u001b[0m\u001b[1;33m:\u001b[0m\u001b[1;33m,\u001b[0m\u001b[1;36m3\u001b[0m\u001b[1;33m:\u001b[0m\u001b[0mT_lens\u001b[0m\u001b[1;33m[\u001b[0m\u001b[0mi\u001b[0m\u001b[1;33m]\u001b[0m\u001b[1;33m+\u001b[0m\u001b[1;36m3\u001b[0m\u001b[1;33m]\u001b[0m\u001b[1;33m,\u001b[0m\u001b[0mk\u001b[0m\u001b[1;33m[\u001b[0m\u001b[1;33m:\u001b[0m\u001b[1;33m,\u001b[0m\u001b[0mT_lens\u001b[0m\u001b[1;33m[\u001b[0m\u001b[0mi\u001b[0m\u001b[1;33m]\u001b[0m\u001b[1;33m+\u001b[0m\u001b[1;36m3\u001b[0m\u001b[1;33m:\u001b[0m\u001b[1;33m]\u001b[0m\u001b[1;33m]\u001b[0m\u001b[1;33m,\u001b[0m \u001b[0maxis\u001b[0m\u001b[1;33m=\u001b[0m\u001b[1;36m0\u001b[0m\u001b[1;33m)\u001b[0m \u001b[1;32mfor\u001b[0m  \u001b[0mi\u001b[0m\u001b[1;33m,\u001b[0m \u001b[0mk\u001b[0m \u001b[1;32min\u001b[0m \u001b[0menumerate\u001b[0m\u001b[1;33m(\u001b[0m\u001b[0mdata\u001b[0m\u001b[1;33m)\u001b[0m\u001b[1;33m]\u001b[0m\u001b[1;33m\u001b[0m\u001b[1;33m\u001b[0m\u001b[0m\n\u001b[0m\u001b[0;32m     40\u001b[0m \u001b[1;33m\u001b[0m\u001b[0m\n\u001b[0;32m     41\u001b[0m     \u001b[1;31m# Extract the labels\u001b[0m\u001b[1;33m\u001b[0m\u001b[1;33m\u001b[0m\u001b[1;33m\u001b[0m\u001b[0m\n",
      "\u001b[1;32m~\\Documents\\Programming_languages\\jupyter_notebook\\random_walks_trajectories_analysis\\codalab_challenge\\Trajectory_analysis-main-github-Remy\\src\\andi_tools.py\u001b[0m in \u001b[0;36m<listcomp>\u001b[1;34m(.0)\u001b[0m\n\u001b[0;32m     37\u001b[0m     \u001b[0mdata\u001b[0m \u001b[1;33m=\u001b[0m \u001b[1;33m[\u001b[0m\u001b[0mall_2D\u001b[0m\u001b[1;33m[\u001b[0m\u001b[0mi\u001b[0m\u001b[1;33m]\u001b[0m\u001b[1;33m[\u001b[0m\u001b[1;33m~\u001b[0m\u001b[0mnp\u001b[0m\u001b[1;33m.\u001b[0m\u001b[0misnan\u001b[0m\u001b[1;33m(\u001b[0m\u001b[0mall_2D\u001b[0m\u001b[1;33m[\u001b[0m\u001b[0mi\u001b[0m\u001b[1;33m]\u001b[0m\u001b[1;33m)\u001b[0m\u001b[1;33m]\u001b[0m\u001b[1;33m.\u001b[0m\u001b[0mreshape\u001b[0m\u001b[1;33m(\u001b[0m\u001b[1;36m1\u001b[0m\u001b[1;33m,\u001b[0m\u001b[1;33m-\u001b[0m\u001b[1;36m1\u001b[0m\u001b[1;33m)\u001b[0m \u001b[1;32mfor\u001b[0m \u001b[0mi\u001b[0m \u001b[1;32min\u001b[0m \u001b[0mnp\u001b[0m\u001b[1;33m.\u001b[0m\u001b[0marange\u001b[0m\u001b[1;33m(\u001b[0m\u001b[0mlen\u001b[0m\u001b[1;33m(\u001b[0m\u001b[0mall_2D\u001b[0m\u001b[1;33m)\u001b[0m\u001b[1;33m)\u001b[0m\u001b[1;33m]\u001b[0m\u001b[1;33m\u001b[0m\u001b[1;33m\u001b[0m\u001b[0m\n\u001b[0;32m     38\u001b[0m     \u001b[0mT_lens\u001b[0m \u001b[1;33m=\u001b[0m \u001b[1;33m[\u001b[0m\u001b[0mnp\u001b[0m\u001b[1;33m.\u001b[0m\u001b[0mint\u001b[0m\u001b[1;33m(\u001b[0m\u001b[1;33m(\u001b[0m\u001b[0mk\u001b[0m\u001b[1;33m.\u001b[0m\u001b[0mshape\u001b[0m\u001b[1;33m[\u001b[0m\u001b[1;36m1\u001b[0m\u001b[1;33m]\u001b[0m\u001b[1;33m-\u001b[0m\u001b[1;36m3\u001b[0m\u001b[1;33m)\u001b[0m\u001b[1;33m/\u001b[0m\u001b[1;36m2\u001b[0m\u001b[1;33m)\u001b[0m\u001b[1;32mfor\u001b[0m \u001b[0mk\u001b[0m \u001b[1;32min\u001b[0m \u001b[0mdata\u001b[0m\u001b[1;33m]\u001b[0m\u001b[1;33m\u001b[0m\u001b[1;33m\u001b[0m\u001b[0m\n\u001b[1;32m---> 39\u001b[1;33m     \u001b[0mxy_data\u001b[0m \u001b[1;33m=\u001b[0m \u001b[1;33m[\u001b[0m\u001b[0mnp\u001b[0m\u001b[1;33m.\u001b[0m\u001b[0mconcatenate\u001b[0m\u001b[1;33m(\u001b[0m\u001b[1;33m[\u001b[0m\u001b[0mk\u001b[0m\u001b[1;33m[\u001b[0m\u001b[1;33m:\u001b[0m\u001b[1;33m,\u001b[0m\u001b[1;36m3\u001b[0m\u001b[1;33m:\u001b[0m\u001b[0mT_lens\u001b[0m\u001b[1;33m[\u001b[0m\u001b[0mi\u001b[0m\u001b[1;33m]\u001b[0m\u001b[1;33m+\u001b[0m\u001b[1;36m3\u001b[0m\u001b[1;33m]\u001b[0m\u001b[1;33m,\u001b[0m\u001b[0mk\u001b[0m\u001b[1;33m[\u001b[0m\u001b[1;33m:\u001b[0m\u001b[1;33m,\u001b[0m\u001b[0mT_lens\u001b[0m\u001b[1;33m[\u001b[0m\u001b[0mi\u001b[0m\u001b[1;33m]\u001b[0m\u001b[1;33m+\u001b[0m\u001b[1;36m3\u001b[0m\u001b[1;33m:\u001b[0m\u001b[1;33m]\u001b[0m\u001b[1;33m]\u001b[0m\u001b[1;33m,\u001b[0m \u001b[0maxis\u001b[0m\u001b[1;33m=\u001b[0m\u001b[1;36m0\u001b[0m\u001b[1;33m)\u001b[0m \u001b[1;32mfor\u001b[0m  \u001b[0mi\u001b[0m\u001b[1;33m,\u001b[0m \u001b[0mk\u001b[0m \u001b[1;32min\u001b[0m \u001b[0menumerate\u001b[0m\u001b[1;33m(\u001b[0m\u001b[0mdata\u001b[0m\u001b[1;33m)\u001b[0m\u001b[1;33m]\u001b[0m\u001b[1;33m\u001b[0m\u001b[1;33m\u001b[0m\u001b[0m\n\u001b[0m\u001b[0;32m     40\u001b[0m \u001b[1;33m\u001b[0m\u001b[0m\n\u001b[0;32m     41\u001b[0m     \u001b[1;31m# Extract the labels\u001b[0m\u001b[1;33m\u001b[0m\u001b[1;33m\u001b[0m\u001b[1;33m\u001b[0m\u001b[0m\n",
      "\u001b[1;32m<__array_function__ internals>\u001b[0m in \u001b[0;36mconcatenate\u001b[1;34m(*args, **kwargs)\u001b[0m\n",
      "\u001b[1;31mValueError\u001b[0m: all the input array dimensions for the concatenation axis must match exactly, but along dimension 1, the array at index 0 has size 78 and the array at index 1 has size 79"
     ]
    }
   ],
   "source": [
    "trajectories, labels = Andi_to_xy(\"data/test_2d.csv\",\"data/label_2d.csv\")# (\"data/test_2d_12.csv\",\"data/label_2d_12.csv\")\n",
    "labels = torch.FloatTensor(labels)\n",
    "labels = torch.max(labels, 1)[1]"
   ]
  },
  {
   "cell_type": "code",
   "execution_count": 3,
   "metadata": {},
   "outputs": [],
   "source": [
    "features =[Q_measure(trajectories, 2),\n",
    "            Q_measure(trajectories, 4),\n",
    "            Q_measure(trajectories, 6),\n",
    "          dist_distribution(trajectories)]\n",
    "feature_sizes = [f.shape[1] for f in features]\n",
    "features = [torch.FloatTensor(f) for f in features]\n"
   ]
  },
  {
   "cell_type": "code",
   "execution_count": 10,
   "metadata": {},
   "outputs": [],
   "source": [
    "model = FeedForward(feature_sizes)\n",
    "criterion = torch.nn.CrossEntropyLoss()\n",
    "optimizer = torch.optim.Adam(model.parameters(), lr = 0.001) # learning rate default is 0.01 \n",
    "#Remy: I would keep Adam for most applications, it's super robust in general, you can try to lower the learning rate since, by default its 10**-3 "
   ]
  },
  {
   "cell_type": "code",
   "execution_count": 11,
   "metadata": {},
   "outputs": [],
   "source": [
    "model.train()\n",
    "epoch = 1000\n",
    "for epoch in range(epoch):    \n",
    "    optimizer.zero_grad()    # Forward pass\n",
    "    y_pred = model(features)    # Compute Loss\n",
    "    loss = criterion(y_pred.squeeze(), labels)\n",
    "   \n",
    "    #print('Epoch {}: train loss: {}'.format(epoch, loss.item()))    # Backward pass\n",
    "    loss.backward()\n",
    "    optimizer.step()"
   ]
  },
  {
   "cell_type": "code",
   "execution_count": 12,
   "metadata": {},
   "outputs": [],
   "source": [
    "after_train = criterion(y_pred,labels)"
   ]
  },
  {
   "cell_type": "code",
   "execution_count": 15,
   "metadata": {},
   "outputs": [],
   "source": [
    "prediction = torch.max(y_pred, 1)[1]"
   ]
  },
  {
   "cell_type": "code",
   "execution_count": 16,
   "metadata": {},
   "outputs": [],
   "source": [
    "nonzero = np.count_nonzero(np.argmax(y_pred.detach().numpy(),axis=1)-labels.detach().numpy())\n",
    "tot = len(np.argmax(y_pred.detach().numpy(),axis=1)-labels.detach().numpy())"
   ]
  },
  {
   "cell_type": "code",
   "execution_count": 17,
   "metadata": {},
   "outputs": [
    {
     "data": {
      "text/plain": [
       "0.33"
      ]
     },
     "execution_count": 17,
     "metadata": {},
     "output_type": "execute_result"
    }
   ],
   "source": [
    "(tot-nonzero)/tot\n",
    "\n",
    "# change the optimiser of the model and its parameters above \n",
    "# optimizer = torch.optim.Adam(model.parameters(), lr = 0.01)\n",
    "#0.456 for lr=0.01\n",
    "#0.33 for lr=0.001"
   ]
  },
  {
   "cell_type": "code",
   "execution_count": null,
   "metadata": {},
   "outputs": [],
   "source": []
  }
 ],
 "metadata": {
  "kernelspec": {
   "display_name": "Python 3",
   "language": "python",
   "name": "python3"
  },
  "language_info": {
   "codemirror_mode": {
    "name": "ipython",
    "version": 3
   },
   "file_extension": ".py",
   "mimetype": "text/x-python",
   "name": "python",
   "nbconvert_exporter": "python",
   "pygments_lexer": "ipython3",
   "version": "3.7.3"
  }
 },
 "nbformat": 4,
 "nbformat_minor": 4
}
