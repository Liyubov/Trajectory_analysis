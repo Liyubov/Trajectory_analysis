{
 "cells": [
  {
   "cell_type": "code",
   "execution_count": 7,
   "metadata": {},
   "outputs": [
    {
     "name": "stdout",
     "output_type": "stream",
     "text": [
      "The autoreload extension is already loaded. To reload it, use:\n",
      "  %reload_ext autoreload\n"
     ]
    }
   ],
   "source": [
    "import os\n",
    "os.environ['KMP_DUPLICATE_LIB_OK']='True'\n",
    "\n",
    "import numpy as np\n",
    "from numpy import array\n",
    "import andi \n",
    "import pandas as pd\n",
    "import matplotlib.pyplot as plt\n",
    "import keras as kr\n",
    "from keras.datasets import imdb\n",
    "from keras.models import Sequential\n",
    "from keras.layers import Dense\n",
    "from keras.layers import LSTM\n",
    "from keras.layers.embeddings import Embedding\n",
    "from keras.preprocessing import sequence\n",
    "import sys\n",
    "sys.path.append('../')\n",
    "\n",
    "from features import Q_measure_2D, Dist_distribution\n",
    "from andi_tools import Andi_to_xy, group_by_length, group_similar_as\n",
    "%load_ext autoreload\n",
    "%autoreload 2"
   ]
  },
  {
   "cell_type": "markdown",
   "metadata": {},
   "source": [
    "# Import and prepare the data"
   ]
  },
  {
   "cell_type": "code",
   "execution_count": 2,
   "metadata": {},
   "outputs": [],
   "source": [
    "all_2D = pd.read_csv(\"../../../ANDI_data/data_2D_task2.csv\").values[:,1:]\n",
    "list_2D_total = [all_2D[i][~np.isnan(all_2D[i])].reshape(1,-1) for i in np.arange(len(all_2D))]\n",
    "xdata, ydata = Andi_to_xy(list_2D_total)"
   ]
  },
  {
   "cell_type": "code",
   "execution_count": 3,
   "metadata": {},
   "outputs": [],
   "source": [
    "output_2d = pd.read_csv(\"../../../ANDI_data/labels_2D_task2.csv\").values[:,2]\n",
    "output = np.array([kr.utils.to_categorical(output_2d[i], num_classes=5) for i in range(len(output_2d))])"
   ]
  },
  {
   "cell_type": "markdown",
   "metadata": {},
   "source": [
    "# Prepare the training set and calculate the features"
   ]
  },
  {
   "cell_type": "code",
   "execution_count": 8,
   "metadata": {},
   "outputs": [],
   "source": [
    "# Calculating the different features \n",
    "\n",
    "Q_list, lens = Q_measure_2D(xdata, ydata , 2)\n",
    "Q_list_2, lens_2 = Q_measure_2D(xdata, ydata , 8)\n",
    "Dist_list, lens_dist = Dist_distribution(xdata, ydata)"
   ]
  },
  {
   "cell_type": "code",
   "execution_count": 10,
   "metadata": {},
   "outputs": [],
   "source": [
    "# Padding the Q-values\n",
    "\n",
    "result = np.squeeze(np.array([np.pad(i,((0,0),(0,np.max(lens)-i.shape[1]))) for i in Q_list]),axis=1)\n",
    "result_2 = np.squeeze(np.array([np.pad(i,((0,0),(0,np.max(lens_2)-i.shape[1]))) for i in Q_list_2]),axis=1)\n",
    "result_d = np.array(Dist_list)"
   ]
  },
  {
   "cell_type": "code",
   "execution_count": 11,
   "metadata": {},
   "outputs": [],
   "source": [
    "# Splitting the data into a training and test set \n",
    "\n",
    "fraction = np.int(len(xdata)*0.75)\n",
    "\n",
    "result_train, result_test = result[:fraction], result[fraction:]\n",
    "result2_train, result2_test = result_2[:fraction], result_2[fraction:]\n",
    "resultd_train, resultd_test = result_d[:fraction], result_d[fraction:]\n",
    "\n",
    "output_train, output_test = output[:fraction], output[fraction:]"
   ]
  },
  {
   "cell_type": "markdown",
   "metadata": {},
   "source": [
    "# Definition of the model"
   ]
  },
  {
   "cell_type": "code",
   "execution_count": 12,
   "metadata": {},
   "outputs": [],
   "source": [
    "# define two sets of inputs\n",
    "inputA = kr.layers.Input(shape=(result_train.shape[1],))\n",
    "inputB = kr.layers.Input(shape=(result2_train.shape[1],))\n",
    "inputC = kr.layers.Input(shape=(resultd_train.shape[1],))\n",
    "# Side A \n",
    "x1 =  kr.layers.Dense(32, activation=\"sigmoid\")(inputA)\n",
    "x1 =  kr.layers.Dense(32, activation=\"sigmoid\")(x1)\n",
    "x1 =  kr.Model(inputs=inputA, outputs=x1)\n",
    "# Side B\n",
    "x2 = kr.layers.Dense(32, activation=\"sigmoid\")(inputB)\n",
    "x2 = kr.layers.Dense(32, activation=\"sigmoid\")(x2)\n",
    "x2 = kr.Model(inputs=inputB, outputs=x2)\n",
    "# Side C\n",
    "x3 =  kr.layers.Dense(32, activation=\"sigmoid\")(inputC)\n",
    "x3 =  kr.layers.Dense(32, activation=\"sigmoid\")(x3)\n",
    "x3 =  kr.Model(inputs=inputC, outputs=x3)\n",
    "# Combine side A en B\n",
    "combined = kr.layers.concatenate([x1.output, x2.output, x3.output])\n",
    "z = kr.layers.Dense(3, activation=\"sigmoid\")(combined)\n",
    "z = kr.layers.Dense(output_train.shape[1], activation=\"softmax\")(z)"
   ]
  },
  {
   "cell_type": "code",
   "execution_count": 13,
   "metadata": {},
   "outputs": [],
   "source": [
    "model = kr.Model(inputs=[x1.input, x2.input, x3.input], outputs=z)\n",
    "model.compile(optimizer='adam', loss=\"categorical_crossentropy\", metrics=[\"accuracy\"])\n",
    "#print(model.summary())"
   ]
  },
  {
   "cell_type": "code",
   "execution_count": 14,
   "metadata": {},
   "outputs": [
    {
     "data": {
      "text/plain": [
       "(7500, 5)"
      ]
     },
     "execution_count": 14,
     "metadata": {},
     "output_type": "execute_result"
    }
   ],
   "source": [
    "output_train.shape"
   ]
  },
  {
   "cell_type": "code",
   "execution_count": 15,
   "metadata": {},
   "outputs": [
    {
     "name": "stdout",
     "output_type": "stream",
     "text": [
      "Epoch 1/50\n",
      "7500/7500 [==============================] - 6s 824us/step - loss: 1.5233 - accuracy: 0.3671\n",
      "Epoch 2/50\n",
      "7500/7500 [==============================] - 6s 763us/step - loss: 1.2932 - accuracy: 0.4947\n",
      "Epoch 3/50\n",
      "7500/7500 [==============================] - 5s 681us/step - loss: 1.1662 - accuracy: 0.5291\n",
      "Epoch 4/50\n",
      "7500/7500 [==============================] - 5s 700us/step - loss: 1.1052 - accuracy: 0.5367\n",
      "Epoch 5/50\n",
      "7500/7500 [==============================] - 5s 667us/step - loss: 1.0693 - accuracy: 0.5469\n",
      "Epoch 6/50\n",
      "7500/7500 [==============================] - 5s 679us/step - loss: 1.0413 - accuracy: 0.5556\n",
      "Epoch 7/50\n",
      "7500/7500 [==============================] - 5s 665us/step - loss: 1.0226 - accuracy: 0.5635\n",
      "Epoch 8/50\n",
      "7500/7500 [==============================] - 5s 675us/step - loss: 1.0039 - accuracy: 0.5711\n",
      "Epoch 9/50\n",
      "7500/7500 [==============================] - 5s 679us/step - loss: 0.9873 - accuracy: 0.5844\n",
      "Epoch 10/50\n",
      "7500/7500 [==============================] - 5s 695us/step - loss: 0.9730 - accuracy: 0.5868\n",
      "Epoch 11/50\n",
      "7500/7500 [==============================] - 5s 689us/step - loss: 0.9631 - accuracy: 0.5849\n",
      "Epoch 12/50\n",
      "7500/7500 [==============================] - 5s 722us/step - loss: 0.9469 - accuracy: 0.5955\n",
      "Epoch 13/50\n",
      "7500/7500 [==============================] - 5s 670us/step - loss: 0.9344 - accuracy: 0.6004\n",
      "Epoch 14/50\n",
      "7500/7500 [==============================] - 5s 662us/step - loss: 0.9231 - accuracy: 0.6100\n",
      "Epoch 15/50\n",
      "7500/7500 [==============================] - 5s 694us/step - loss: 0.9060 - accuracy: 0.6167\n",
      "Epoch 16/50\n",
      "7500/7500 [==============================] - 5s 676us/step - loss: 0.9023 - accuracy: 0.6143\n",
      "Epoch 17/50\n",
      "7500/7500 [==============================] - 5s 668us/step - loss: 0.8857 - accuracy: 0.6248\n",
      "Epoch 18/50\n",
      "7500/7500 [==============================] - 5s 687us/step - loss: 0.8712 - accuracy: 0.6305\n",
      "Epoch 19/50\n",
      "7500/7500 [==============================] - 5s 688us/step - loss: 0.8643 - accuracy: 0.6327\n",
      "Epoch 20/50\n",
      "7500/7500 [==============================] - 5s 686us/step - loss: 0.8516 - accuracy: 0.6420\n",
      "Epoch 21/50\n",
      "7500/7500 [==============================] - 5s 671us/step - loss: 0.8414 - accuracy: 0.6448\n",
      "Epoch 22/50\n",
      "7500/7500 [==============================] - 5s 665us/step - loss: 0.8343 - accuracy: 0.6507\n",
      "Epoch 23/50\n",
      "7500/7500 [==============================] - 5s 673us/step - loss: 0.8167 - accuracy: 0.6579\n",
      "Epoch 24/50\n",
      "7500/7500 [==============================] - 5s 666us/step - loss: 0.8104 - accuracy: 0.6601\n",
      "Epoch 25/50\n",
      "7500/7500 [==============================] - 5s 652us/step - loss: 0.8025 - accuracy: 0.6640\n",
      "Epoch 26/50\n",
      "7500/7500 [==============================] - 5s 661us/step - loss: 0.7904 - accuracy: 0.6692\n",
      "Epoch 27/50\n",
      "7500/7500 [==============================] - 5s 655us/step - loss: 0.7817 - accuracy: 0.6736\n",
      "Epoch 28/50\n",
      "7500/7500 [==============================] - 5s 649us/step - loss: 0.7712 - accuracy: 0.6805\n",
      "Epoch 29/50\n",
      "7500/7500 [==============================] - 6s 743us/step - loss: 0.7588 - accuracy: 0.6841\n",
      "Epoch 30/50\n",
      "7500/7500 [==============================] - 5s 669us/step - loss: 0.7516 - accuracy: 0.6871\n",
      "Epoch 31/50\n",
      "7500/7500 [==============================] - 5s 686us/step - loss: 0.7406 - accuracy: 0.6923\n",
      "Epoch 32/50\n",
      "7500/7500 [==============================] - 5s 659us/step - loss: 0.7384 - accuracy: 0.6948\n",
      "Epoch 33/50\n",
      "7500/7500 [==============================] - 5s 671us/step - loss: 0.7335 - accuracy: 0.6976\n",
      "Epoch 34/50\n",
      "7500/7500 [==============================] - 5s 677us/step - loss: 0.7148 - accuracy: 0.7033\n",
      "Epoch 35/50\n",
      "7500/7500 [==============================] - 5s 650us/step - loss: 0.7119 - accuracy: 0.7075\n",
      "Epoch 36/50\n",
      "7500/7500 [==============================] - 5s 659us/step - loss: 0.6968 - accuracy: 0.7157\n",
      "Epoch 37/50\n",
      "7500/7500 [==============================] - 5s 652us/step - loss: 0.6879 - accuracy: 0.7233\n",
      "Epoch 38/50\n",
      "7500/7500 [==============================] - 5s 717us/step - loss: 0.6887 - accuracy: 0.7131\n",
      "Epoch 39/50\n",
      "7500/7500 [==============================] - 5s 651us/step - loss: 0.6725 - accuracy: 0.7257\n",
      "Epoch 40/50\n",
      "7500/7500 [==============================] - 5s 661us/step - loss: 0.6642 - accuracy: 0.7323\n",
      "Epoch 41/50\n",
      "7500/7500 [==============================] - 5s 656us/step - loss: 0.6491 - accuracy: 0.7321\n",
      "Epoch 42/50\n",
      "7500/7500 [==============================] - 5s 672us/step - loss: 0.6457 - accuracy: 0.7369\n",
      "Epoch 43/50\n",
      "7500/7500 [==============================] - 5s 668us/step - loss: 0.6427 - accuracy: 0.7380\n",
      "Epoch 44/50\n",
      "7500/7500 [==============================] - 5s 673us/step - loss: 0.6371 - accuracy: 0.7381\n",
      "Epoch 45/50\n",
      "7500/7500 [==============================] - 5s 649us/step - loss: 0.6291 - accuracy: 0.7439\n",
      "Epoch 46/50\n",
      "7500/7500 [==============================] - 6s 827us/step - loss: 0.6111 - accuracy: 0.7540\n",
      "Epoch 47/50\n",
      "7500/7500 [==============================] - 5s 688us/step - loss: 0.6101 - accuracy: 0.7521\n",
      "Epoch 48/50\n",
      "7500/7500 [==============================] - 5s 658us/step - loss: 0.6237 - accuracy: 0.7427\n",
      "Epoch 49/50\n",
      "7500/7500 [==============================] - 5s 659us/step - loss: 0.5992 - accuracy: 0.7577\n",
      "Epoch 50/50\n",
      "7500/7500 [==============================] - 5s 666us/step - loss: 0.5863 - accuracy: 0.7712\n"
     ]
    },
    {
     "data": {
      "text/plain": [
       "<keras.callbacks.callbacks.History at 0x847a76a90>"
      ]
     },
     "execution_count": 15,
     "metadata": {},
     "output_type": "execute_result"
    }
   ],
   "source": [
    "model.fit([result_train,result2_train,resultd_train], output_train, epochs=50, batch_size=10, verbose=1)"
   ]
  },
  {
   "cell_type": "code",
   "execution_count": 16,
   "metadata": {},
   "outputs": [
    {
     "name": "stdout",
     "output_type": "stream",
     "text": [
      "2500/2500 [==============================] - 0s 141us/step\n"
     ]
    },
    {
     "data": {
      "text/plain": [
       "[1.20850312833786, 0.5583999752998352]"
      ]
     },
     "execution_count": 16,
     "metadata": {},
     "output_type": "execute_result"
    }
   ],
   "source": [
    "model.evaluate([result_test,result2_test,resultd_test], output_test)"
   ]
  },
  {
   "cell_type": "code",
   "execution_count": 16,
   "metadata": {},
   "outputs": [
    {
     "name": "stdout",
     "output_type": "stream",
     "text": [
      "Saved model to disk\n"
     ]
    }
   ],
   "source": [
    "model_json = model.to_json()\n",
    "with open(\"saved_models/model.json\", \"w\") as json_file:\n",
    "    json_file.write(model_json)\n",
    "# serialize weights to HDF5\n",
    "model.save_weights(\"saved_models/model.h5\")\n",
    "print(\"Saved model to disk\")"
   ]
  },
  {
   "cell_type": "code",
   "execution_count": null,
   "metadata": {},
   "outputs": [],
   "source": []
  }
 ],
 "metadata": {
  "kernelspec": {
   "display_name": "Python 3",
   "language": "python",
   "name": "python3"
  },
  "language_info": {
   "codemirror_mode": {
    "name": "ipython",
    "version": 3
   },
   "file_extension": ".py",
   "mimetype": "text/x-python",
   "name": "python",
   "nbconvert_exporter": "python",
   "pygments_lexer": "ipython3",
   "version": "3.7.6"
  }
 },
 "nbformat": 4,
 "nbformat_minor": 4
}
