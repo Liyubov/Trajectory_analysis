{
 "cells": [
  {
   "cell_type": "markdown",
   "metadata": {},
   "source": [
    "# Features of networks\n",
    "\n",
    "The idea is the same as with analysis of trajectories. \n",
    "As **input** we give networks and some features of networks. \n",
    "As **output** we would like to get networks classification, e.g. in known categories such as \n",
    "1. Watts-Strogatz graphs\n",
    "2. Barabasi Albert graphs \n",
    "\n",
    "Another possible input could be etworks with hidden features, e.g. networks with weighted edges and possible output could be classification of networks into specific groups (networks from category 1, category 2). \n",
    "\n",
    "**Critical comment here:** why the same type of problem could not be done using other tools such as random forest etc.\n",
    "\n",
    "One good review on this topic is from \"Machine learning in network centrality measures: Tutorial and outlook\" ACM 2019\n"
   ]
  },
  {
   "cell_type": "code",
   "execution_count": null,
   "metadata": {},
   "outputs": [],
   "source": [
    "# call module from Andi for trajectories generation and analysis \n",
    "# call new module from network-Andi for networks generation and analysis\n",
    "\n",
    "import numpy as np\n",
    "import torch\n",
    "import os\n",
    "import sys\n",
    "sys.path.append('../')\n",
    "\n",
    "from src.features import Q_measure, dist_distribution, convex_hull\n",
    "from src.andi_tools import Andi_to_xy\n",
    "from src.training import FeedForward\n",
    "\n",
    "#from src.netfeatures import degree, betweenness, clustering\n",
    "#from src.andi_tools import Andi_to_xy\n",
    "#from src.training import FeedForward\n",
    "\n",
    "\n",
    "%load_ext autoreload\n",
    "%autoreload 2"
   ]
  },
  {
   "cell_type": "markdown",
   "metadata": {},
   "source": [
    "\n",
    "Examples of possible local network measures: \n",
    "1. `degree_centrality(G)`, the degree centrality for nodes.\n",
    "2. `in_degree_centrality(G)`, the in-degree centrality for nodes.\n",
    "3. `out_degree_centrality(G)`, the out-degree centrality for nodes\n",
    "4. `betweenness_centrality(G)`, the shortest-path betweenness centrality for nodes. Betweenness centrality of a node v is the sum of the fraction of all-pairs shortest paths that pass through \n",
    "5. ` closeness_centrality(G)`, closeness centrality for nodes.  Closeness centrality  of a node u is the reciprocal of the sum of the shortest path distances from u to all n-1 other nodes\n",
    "6. spectral measures, such as  `eigenvector_centrality(G)`, the eigenvector centrality for the graph G. Eigenvector centrality computes the centrality for a node based on the centrality of its neighbors. The eigenvector centrality for node i is $x$: $Ax = \\lambda x$, where $\\lambda$ is eigenvalue.\n",
    "7. spectral measures based `Katz centrality` or `Page rank`etc.\n",
    "\n",
    "Other network measures are described in the networkx documentation https://networkx.github.io/documentation/stable/reference/generators.html "
   ]
  },
  {
   "cell_type": "code",
   "execution_count": 1,
   "metadata": {},
   "outputs": [
    {
     "name": "stdout",
     "output_type": "stream",
     "text": [
      "{0: 0.21428571428571427, 1: 0.07142857142857142, 2: 0.07142857142857142, 3: 0.07142857142857142, 4: 0.14285714285714285, 5: 0.14285714285714285, 6: 0.21428571428571427, 7: 0.07142857142857142, 8: 0.07142857142857142, 9: 0.07142857142857142, 10: 0.21428571428571427, 11: 0.21428571428571427, 12: 0.14285714285714285, 13: 0.2857142857142857, 14: 0.14285714285714285}\n",
      "[(0, 3), (1, 1), (2, 1), (3, 1), (4, 2), (5, 2), (6, 3), (7, 1), (8, 1), (9, 1), (10, 3), (11, 3), (12, 2), (13, 4), (14, 2)]\n",
      "<class 'networkx.classes.reportviews.DegreeView'>\n",
      "[4, 3, 3, 3, 3, 2, 2, 2, 2, 1, 1, 1, 1, 1, 1]\n"
     ]
    },
    {
     "data": {
      "image/png": "[encoded data removed]",
      "text/plain": [
       "<Figure size 288x288 with 1 Axes>"
      ]
     },
     "metadata": {},
     "output_type": "display_data"
    }
   ],
   "source": [
    "import numpy as np\n",
    "import networkx as nx\n",
    "import matplotlib.pyplot as plt\n",
    "%matplotlib inline\n",
    "\n",
    "# 1. Generate a network\n",
    "n=10\n",
    "G = nx.star_graph(n)\n",
    "\n",
    "n = 15 \n",
    "k = 2\n",
    "p = 0.5\n",
    "G = nx.watts_strogatz_graph(n, k, p)\n",
    "\n",
    "# 2. Calculate measures for each node\n",
    "deg = nx.degree_centrality(G) # gives a dictionary!!!\n",
    "print(deg)\n",
    "print(G.degree())\n",
    "print(type(G.degree))# gives 'networkx.classes.reportviews.DegreeView'\n",
    "degree_sequence = sorted([d for n, d in G.degree()], reverse=True) # gives array of degree values\n",
    "print(degree_sequence) \n",
    "\n",
    "\n",
    "# 3. Draw network with node colors defined by degree\n",
    "plt.figure(figsize = (4, 4)) # set size of figure\n",
    "node_color = degree_sequence # assign node colors\n",
    "nx.draw(G, node_color = degree_sequence)\n",
    "\n"
   ]
  },
  {
   "cell_type": "code",
   "execution_count": 8,
   "metadata": {},
   "outputs": [
    {
     "name": "stdout",
     "output_type": "stream",
     "text": [
      "dict_values([0.05770739981266295, 0.018574213311055417, 0.03448203842940685, 0.0045321637426900575, 0.002680311890838206, 0.039135085187716766, 0.02681704260651629, 0.036709830130882755, 0.04211728816991975, 0.007797270955165692, 0.04281537176274018, 0.09640388850915166, 0.1468912179438495, 0.026796789954684694, 0.04249575960102275, 0.0721526037315511, 0.05497076023391813, 0.08026315789473681, 0.03184349763297131, 0.02370319738740791])\n",
      "<class 'list'>\n",
      "  \n",
      "dict_values([0.05770739981266295, 0.018574213311055417, 0.03448203842940685, 0.0045321637426900575, 0.002680311890838206, 0.039135085187716766, 0.02681704260651629, 0.036709830130882755, 0.04211728816991975, 0.007797270955165692, 0.04281537176274018, 0.09640388850915166, 0.1468912179438495, 0.026796789954684694, 0.04249575960102275, 0.0721526037315511, 0.05497076023391813, 0.08026315789473681, 0.03184349763297131, 0.02370319738740791])\n"
     ]
    }
   ],
   "source": [
    "\n",
    "G_er = nx.erdos_renyi_graph(20, 0.3)\n",
    "betw = nx.betweenness_centrality(G_er) #returns dictionary\n",
    "betw_sequence = np.array(betw.values()) # gives array of degree values\n",
    "print(betw_sequence)\n",
    "print( type(list(nx.betweenness_centrality(G_er).values())))\n",
    "print('  ')\n",
    "\n",
    "G_er = nx.erdos_renyi_graph(20, 0.3)\n",
    "clust = nx.clustering(G_er) #returns dictionary\n",
    "clust_sequence = np.array(betw.values()) # gives array of degree values\n",
    "print(clust_sequence)\n"
   ]
  },
  {
   "cell_type": "code",
   "execution_count": null,
   "metadata": {},
   "outputs": [],
   "source": []
  }
 ],
 "metadata": {
  "kernelspec": {
   "display_name": "Python 3",
   "language": "python",
   "name": "python3"
  },
  "language_info": {
   "codemirror_mode": {
    "name": "ipython",
    "version": 3
   },
   "file_extension": ".py",
   "mimetype": "text/x-python",
   "name": "python",
   "nbconvert_exporter": "python",
   "pygments_lexer": "ipython3",
   "version": "3.7.3"
  }
 },
 "nbformat": 4,
 "nbformat_minor": 4
}
